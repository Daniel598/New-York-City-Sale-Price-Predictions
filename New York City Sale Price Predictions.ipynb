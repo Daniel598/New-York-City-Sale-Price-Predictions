{
  "nbformat": 4,
  "nbformat_minor": 0,
  "metadata": {
    "colab": {
      "name": "INFO284_Semesteroppgave.ipynb",
      "provenance": [],
      "collapsed_sections": [],
      "toc_visible": true
    },
    "kernelspec": {
      "display_name": "Python 3",
      "language": "python",
      "name": "python3"
    },
    "language_info": {
      "codemirror_mode": {
        "name": "ipython",
        "version": 3
      },
      "file_extension": ".py",
      "mimetype": "text/x-python",
      "name": "python",
      "nbconvert_exporter": "python",
      "pygments_lexer": "ipython3",
      "version": "3.8.5"
    }
  },
  "cells": [
    {
      "cell_type": "markdown",
      "metadata": {
        "id": "iPJ95B6Kx-ET"
      },
      "source": [
        "# New York City Sale Price Predictions\n",
        "Predicting sale prices from the New York housing market 2016-2017 while looking at buildings valued between 10,000 USD and 1,000,000 USD."
      ]
    },
    {
      "cell_type": "markdown",
      "metadata": {
        "id": "ai43b8sDOB2F"
      },
      "source": [
        "# Introduction\n",
        "\n",
        "In tandem with the surge of big data, machine learning (ML) is seeing an unprecedented growth in many fields. The increased processing-capacity of ML promotes the need for increased data collection to be able to take advantage of the ever-increasing complexity of ML algorithms (Polyzotis et al., 2018, p.). Furthermore, the capabilities of these expert systems are endless, and in many fields already outperform or perform on-par with experts (Roh et al., 2019; Simarjeet et al., 2020). The trove of information collected is often labeled as business intelligence, and then used to maximize profit, and minimize risk for stakeholders. Our hypothesis is that culminates in a somewhat skewed power-balance between consumers and businesses in terms of access to information. This report will therefore focus on equipping the average person with valuable insights in their purchase of property. \n",
        " \n",
        "A large part of the report will elaborate on the thought process in regards to the choice of data features to be included, and how it is processed. The reason being that if the process is viewed from an end-to-end perspective, the majority of the workload will be pre-processing of the data. Moreover, choosing correctly from the wide array of techniques is critical to achieve high accuracy, and preserve the integrity of the original data. To achieve this we will be looking at how different ML algorithms perform at predicting sale prices for different properties in New York city over a 12-month period. The time frame being from September 2016 to September 2017 using a dataset from Kaggle (City of New York, 2017). A test of three classification algorithms, namely k-nearest neighbour (k-NN), Multinomial Bayes (MNB), and a support vector machine (SVC) classifier will be conducted. In addition three regression algorithms will be tested, specifically linear regression (with and without L1/Lasso and L2/Ridge regularisation), as well as a random forest regressor. Moreover, the data-set will be tested on two neural networks, one classifier, and one regressive.\n"
      ]
    },
    {
      "cell_type": "code",
      "metadata": {
        "colab": {
          "base_uri": "https://localhost:8080/",
          "height": 590
        },
        "id": "S5C-WEJPU_gX",
        "outputId": "a66367e9-9412-4181-d22b-d238767c0161"
      },
      "source": [
        "# Libraries used: SKlearn, seaborn, Numpy, Pandas, Matplotlib\n",
        "\n",
        "# Loading and reading the data\n",
        "import pandas as pd\n",
        "import numpy as np\n",
        "\n",
        "df = pd.read_csv(\"nyc-rolling-sales.csv\")\n",
        "\n",
        "# Preparing the random state used for data splits\n",
        "ran = 1\n",
        "df"
      ],
      "execution_count": null,
      "outputs": [
        {
          "data": {
            "text/html": [
              "<div>\n",
              "<style scoped>\n",
              "    .dataframe tbody tr th:only-of-type {\n",
              "        vertical-align: middle;\n",
              "    }\n",
              "\n",
              "    .dataframe tbody tr th {\n",
              "        vertical-align: top;\n",
              "    }\n",
              "\n",
              "    .dataframe thead th {\n",
              "        text-align: right;\n",
              "    }\n",
              "</style>\n",
              "<table border=\"1\" class=\"dataframe\">\n",
              "  <thead>\n",
              "    <tr style=\"text-align: right;\">\n",
              "      <th></th>\n",
              "      <th>Unnamed: 0</th>\n",
              "      <th>BOROUGH</th>\n",
              "      <th>NEIGHBORHOOD</th>\n",
              "      <th>BUILDING CLASS CATEGORY</th>\n",
              "      <th>TAX CLASS AT PRESENT</th>\n",
              "      <th>BLOCK</th>\n",
              "      <th>LOT</th>\n",
              "      <th>EASE-MENT</th>\n",
              "      <th>BUILDING CLASS AT PRESENT</th>\n",
              "      <th>ADDRESS</th>\n",
              "      <th>APARTMENT NUMBER</th>\n",
              "      <th>ZIP CODE</th>\n",
              "      <th>RESIDENTIAL UNITS</th>\n",
              "      <th>COMMERCIAL UNITS</th>\n",
              "      <th>TOTAL UNITS</th>\n",
              "      <th>LAND SQUARE FEET</th>\n",
              "      <th>GROSS SQUARE FEET</th>\n",
              "      <th>YEAR BUILT</th>\n",
              "      <th>TAX CLASS AT TIME OF SALE</th>\n",
              "      <th>BUILDING CLASS AT TIME OF SALE</th>\n",
              "      <th>SALE PRICE</th>\n",
              "      <th>SALE DATE</th>\n",
              "    </tr>\n",
              "  </thead>\n",
              "  <tbody>\n",
              "    <tr>\n",
              "      <th>0</th>\n",
              "      <td>4</td>\n",
              "      <td>1</td>\n",
              "      <td>ALPHABET CITY</td>\n",
              "      <td>07 RENTALS - WALKUP APARTMENTS</td>\n",
              "      <td>2A</td>\n",
              "      <td>392</td>\n",
              "      <td>6</td>\n",
              "      <td></td>\n",
              "      <td>C2</td>\n",
              "      <td>153 AVENUE B</td>\n",
              "      <td></td>\n",
              "      <td>10009</td>\n",
              "      <td>5</td>\n",
              "      <td>0</td>\n",
              "      <td>5</td>\n",
              "      <td>1633</td>\n",
              "      <td>6440</td>\n",
              "      <td>1900</td>\n",
              "      <td>2</td>\n",
              "      <td>C2</td>\n",
              "      <td>6625000</td>\n",
              "      <td>2017-07-19 00:00:00</td>\n",
              "    </tr>\n",
              "    <tr>\n",
              "      <th>1</th>\n",
              "      <td>5</td>\n",
              "      <td>1</td>\n",
              "      <td>ALPHABET CITY</td>\n",
              "      <td>07 RENTALS - WALKUP APARTMENTS</td>\n",
              "      <td>2</td>\n",
              "      <td>399</td>\n",
              "      <td>26</td>\n",
              "      <td></td>\n",
              "      <td>C7</td>\n",
              "      <td>234 EAST 4TH   STREET</td>\n",
              "      <td></td>\n",
              "      <td>10009</td>\n",
              "      <td>28</td>\n",
              "      <td>3</td>\n",
              "      <td>31</td>\n",
              "      <td>4616</td>\n",
              "      <td>18690</td>\n",
              "      <td>1900</td>\n",
              "      <td>2</td>\n",
              "      <td>C7</td>\n",
              "      <td>-</td>\n",
              "      <td>2016-12-14 00:00:00</td>\n",
              "    </tr>\n",
              "    <tr>\n",
              "      <th>2</th>\n",
              "      <td>6</td>\n",
              "      <td>1</td>\n",
              "      <td>ALPHABET CITY</td>\n",
              "      <td>07 RENTALS - WALKUP APARTMENTS</td>\n",
              "      <td>2</td>\n",
              "      <td>399</td>\n",
              "      <td>39</td>\n",
              "      <td></td>\n",
              "      <td>C7</td>\n",
              "      <td>197 EAST 3RD   STREET</td>\n",
              "      <td></td>\n",
              "      <td>10009</td>\n",
              "      <td>16</td>\n",
              "      <td>1</td>\n",
              "      <td>17</td>\n",
              "      <td>2212</td>\n",
              "      <td>7803</td>\n",
              "      <td>1900</td>\n",
              "      <td>2</td>\n",
              "      <td>C7</td>\n",
              "      <td>-</td>\n",
              "      <td>2016-12-09 00:00:00</td>\n",
              "    </tr>\n",
              "    <tr>\n",
              "      <th>3</th>\n",
              "      <td>7</td>\n",
              "      <td>1</td>\n",
              "      <td>ALPHABET CITY</td>\n",
              "      <td>07 RENTALS - WALKUP APARTMENTS</td>\n",
              "      <td>2B</td>\n",
              "      <td>402</td>\n",
              "      <td>21</td>\n",
              "      <td></td>\n",
              "      <td>C4</td>\n",
              "      <td>154 EAST 7TH STREET</td>\n",
              "      <td></td>\n",
              "      <td>10009</td>\n",
              "      <td>10</td>\n",
              "      <td>0</td>\n",
              "      <td>10</td>\n",
              "      <td>2272</td>\n",
              "      <td>6794</td>\n",
              "      <td>1913</td>\n",
              "      <td>2</td>\n",
              "      <td>C4</td>\n",
              "      <td>3936272</td>\n",
              "      <td>2016-09-23 00:00:00</td>\n",
              "    </tr>\n",
              "    <tr>\n",
              "      <th>4</th>\n",
              "      <td>8</td>\n",
              "      <td>1</td>\n",
              "      <td>ALPHABET CITY</td>\n",
              "      <td>07 RENTALS - WALKUP APARTMENTS</td>\n",
              "      <td>2A</td>\n",
              "      <td>404</td>\n",
              "      <td>55</td>\n",
              "      <td></td>\n",
              "      <td>C2</td>\n",
              "      <td>301 EAST 10TH   STREET</td>\n",
              "      <td></td>\n",
              "      <td>10009</td>\n",
              "      <td>6</td>\n",
              "      <td>0</td>\n",
              "      <td>6</td>\n",
              "      <td>2369</td>\n",
              "      <td>4615</td>\n",
              "      <td>1900</td>\n",
              "      <td>2</td>\n",
              "      <td>C2</td>\n",
              "      <td>8000000</td>\n",
              "      <td>2016-11-17 00:00:00</td>\n",
              "    </tr>\n",
              "    <tr>\n",
              "      <th>...</th>\n",
              "      <td>...</td>\n",
              "      <td>...</td>\n",
              "      <td>...</td>\n",
              "      <td>...</td>\n",
              "      <td>...</td>\n",
              "      <td>...</td>\n",
              "      <td>...</td>\n",
              "      <td>...</td>\n",
              "      <td>...</td>\n",
              "      <td>...</td>\n",
              "      <td>...</td>\n",
              "      <td>...</td>\n",
              "      <td>...</td>\n",
              "      <td>...</td>\n",
              "      <td>...</td>\n",
              "      <td>...</td>\n",
              "      <td>...</td>\n",
              "      <td>...</td>\n",
              "      <td>...</td>\n",
              "      <td>...</td>\n",
              "      <td>...</td>\n",
              "      <td>...</td>\n",
              "    </tr>\n",
              "    <tr>\n",
              "      <th>84543</th>\n",
              "      <td>8409</td>\n",
              "      <td>5</td>\n",
              "      <td>WOODROW</td>\n",
              "      <td>02 TWO FAMILY DWELLINGS</td>\n",
              "      <td>1</td>\n",
              "      <td>7349</td>\n",
              "      <td>34</td>\n",
              "      <td></td>\n",
              "      <td>B9</td>\n",
              "      <td>37 QUAIL LANE</td>\n",
              "      <td></td>\n",
              "      <td>10309</td>\n",
              "      <td>2</td>\n",
              "      <td>0</td>\n",
              "      <td>2</td>\n",
              "      <td>2400</td>\n",
              "      <td>2575</td>\n",
              "      <td>1998</td>\n",
              "      <td>1</td>\n",
              "      <td>B9</td>\n",
              "      <td>450000</td>\n",
              "      <td>2016-11-28 00:00:00</td>\n",
              "    </tr>\n",
              "    <tr>\n",
              "      <th>84544</th>\n",
              "      <td>8410</td>\n",
              "      <td>5</td>\n",
              "      <td>WOODROW</td>\n",
              "      <td>02 TWO FAMILY DWELLINGS</td>\n",
              "      <td>1</td>\n",
              "      <td>7349</td>\n",
              "      <td>78</td>\n",
              "      <td></td>\n",
              "      <td>B9</td>\n",
              "      <td>32 PHEASANT LANE</td>\n",
              "      <td></td>\n",
              "      <td>10309</td>\n",
              "      <td>2</td>\n",
              "      <td>0</td>\n",
              "      <td>2</td>\n",
              "      <td>2498</td>\n",
              "      <td>2377</td>\n",
              "      <td>1998</td>\n",
              "      <td>1</td>\n",
              "      <td>B9</td>\n",
              "      <td>550000</td>\n",
              "      <td>2017-04-21 00:00:00</td>\n",
              "    </tr>\n",
              "    <tr>\n",
              "      <th>84545</th>\n",
              "      <td>8411</td>\n",
              "      <td>5</td>\n",
              "      <td>WOODROW</td>\n",
              "      <td>02 TWO FAMILY DWELLINGS</td>\n",
              "      <td>1</td>\n",
              "      <td>7351</td>\n",
              "      <td>60</td>\n",
              "      <td></td>\n",
              "      <td>B2</td>\n",
              "      <td>49 PITNEY AVENUE</td>\n",
              "      <td></td>\n",
              "      <td>10309</td>\n",
              "      <td>2</td>\n",
              "      <td>0</td>\n",
              "      <td>2</td>\n",
              "      <td>4000</td>\n",
              "      <td>1496</td>\n",
              "      <td>1925</td>\n",
              "      <td>1</td>\n",
              "      <td>B2</td>\n",
              "      <td>460000</td>\n",
              "      <td>2017-07-05 00:00:00</td>\n",
              "    </tr>\n",
              "    <tr>\n",
              "      <th>84546</th>\n",
              "      <td>8412</td>\n",
              "      <td>5</td>\n",
              "      <td>WOODROW</td>\n",
              "      <td>22 STORE BUILDINGS</td>\n",
              "      <td>4</td>\n",
              "      <td>7100</td>\n",
              "      <td>28</td>\n",
              "      <td></td>\n",
              "      <td>K6</td>\n",
              "      <td>2730 ARTHUR KILL ROAD</td>\n",
              "      <td></td>\n",
              "      <td>10309</td>\n",
              "      <td>0</td>\n",
              "      <td>7</td>\n",
              "      <td>7</td>\n",
              "      <td>208033</td>\n",
              "      <td>64117</td>\n",
              "      <td>2001</td>\n",
              "      <td>4</td>\n",
              "      <td>K6</td>\n",
              "      <td>11693337</td>\n",
              "      <td>2016-12-21 00:00:00</td>\n",
              "    </tr>\n",
              "    <tr>\n",
              "      <th>84547</th>\n",
              "      <td>8413</td>\n",
              "      <td>5</td>\n",
              "      <td>WOODROW</td>\n",
              "      <td>35 INDOOR PUBLIC AND CULTURAL FACILITIES</td>\n",
              "      <td>4</td>\n",
              "      <td>7105</td>\n",
              "      <td>679</td>\n",
              "      <td></td>\n",
              "      <td>P9</td>\n",
              "      <td>155 CLAY PIT ROAD</td>\n",
              "      <td></td>\n",
              "      <td>10309</td>\n",
              "      <td>0</td>\n",
              "      <td>1</td>\n",
              "      <td>1</td>\n",
              "      <td>10796</td>\n",
              "      <td>2400</td>\n",
              "      <td>2006</td>\n",
              "      <td>4</td>\n",
              "      <td>P9</td>\n",
              "      <td>69300</td>\n",
              "      <td>2016-10-27 00:00:00</td>\n",
              "    </tr>\n",
              "  </tbody>\n",
              "</table>\n",
              "<p>84548 rows × 22 columns</p>\n",
              "</div>"
            ],
            "text/plain": [
              "       Unnamed: 0  BOROUGH  ... SALE PRICE            SALE DATE\n",
              "0               4        1  ...    6625000  2017-07-19 00:00:00\n",
              "1               5        1  ...        -    2016-12-14 00:00:00\n",
              "2               6        1  ...        -    2016-12-09 00:00:00\n",
              "3               7        1  ...    3936272  2016-09-23 00:00:00\n",
              "4               8        1  ...    8000000  2016-11-17 00:00:00\n",
              "...           ...      ...  ...        ...                  ...\n",
              "84543        8409        5  ...     450000  2016-11-28 00:00:00\n",
              "84544        8410        5  ...     550000  2017-04-21 00:00:00\n",
              "84545        8411        5  ...     460000  2017-07-05 00:00:00\n",
              "84546        8412        5  ...   11693337  2016-12-21 00:00:00\n",
              "84547        8413        5  ...      69300  2016-10-27 00:00:00\n",
              "\n",
              "[84548 rows x 22 columns]"
            ]
          },
          "execution_count": 1,
          "metadata": {
            "tags": []
          },
          "output_type": "execute_result"
        }
      ]
    },
    {
      "cell_type": "markdown",
      "metadata": {
        "id": "3RdG9KdS7cXF"
      },
      "source": [
        "# Data selection"
      ]
    },
    {
      "cell_type": "code",
      "metadata": {
        "id": "m-nR0DRJi9C0"
      },
      "source": [
        "# Copy the data frame for inspection and converts objects and strings to ints\n",
        "inspect_data = df.copy()\n",
        "inspect_data = inspect_data.convert_dtypes()\n",
        "inspect_data['LAND SQUARE FEET'] = pd.to_numeric(inspect_data['LAND SQUARE FEET'], errors = 'coerce')\n",
        "inspect_data['GROSS SQUARE FEET'] = pd.to_numeric(inspect_data['GROSS SQUARE FEET'], errors = 'coerce')\n",
        "inspect_data['SALE PRICE'] = pd.to_numeric(inspect_data['SALE PRICE'], errors = 'coerce')"
      ],
      "execution_count": null,
      "outputs": []
    },
    {
      "cell_type": "code",
      "metadata": {
        "id": "vqZtFXq6qK7C"
      },
      "source": [
        "# Label encode the remaining string values so they will apppear in the heatmap\n",
        "for column in inspect_data:\n",
        "    if pd.api.types.is_string_dtype(inspect_data[column]) is True:\n",
        "        inspect_data[column], uniques = pd.factorize(inspect_data[column])"
      ],
      "execution_count": null,
      "outputs": []
    },
    {
      "cell_type": "code",
      "metadata": {
        "colab": {
          "base_uri": "https://localhost:8080/",
          "height": 724
        },
        "id": "-Wdu3RU1lmBz",
        "outputId": "d791c5a0-39f1-49e8-80ac-a086b1bb3dcd"
      },
      "source": [
        "# Heatmap (Figure 1)\n",
        "import seaborn as sns\n",
        "import matplotlib.pyplot as plt\n",
        "corr = inspect_data.corr()\n",
        "fig, ax = plt.subplots(figsize=(10,10)) \n",
        "plt.title('Figure 1')\n",
        "sns.heatmap(corr, mask=np.zeros_like(corr, dtype=np.bool), cmap=sns.diverging_palette(220, 10, as_cmap=True), square=True)"
      ],
      "execution_count": null,
      "outputs": [
        {
          "data": {
            "text/plain": [
              "<matplotlib.axes._subplots.AxesSubplot at 0x7f204bc00b10>"
            ]
          },
          "execution_count": 4,
          "metadata": {
            "tags": []
          },
          "output_type": "execute_result"
        },
        {
          "data": {
            "image/png": "[encoded data removed]",
            "text/plain": [
              "<Figure size 720x720 with 2 Axes>"
            ]
          },
          "metadata": {
            "needs_background": "light",
            "tags": []
          },
          "output_type": "display_data"
        }
      ]
    },
    {
      "cell_type": "markdown",
      "metadata": {
        "id": "jSF_9OPiOkdN"
      },
      "source": [
        "The data selection for our report was derived largely from trial and error with a goal of the highest possible accuracy. To confirm that these findings were in fact the best predictors, a heatmap using Seaborn was created to illustrate the correlation between the target value and the respective features (Figure 1). Approximately half of the features in the dataset were dropped (10/22). Some features were not relevant such as ‘Address’ and the unnamed feature numbering each row in the data, others showed a correlation that approximated null. The choice of ‘Sale price’ as the target data point was chosen because it was deemed to potentially produce the most meaningful data, and be practically useful for the target group. It can help the buyer more precisely understand the fluctuating prices as a result of the data features. A final list was concluded upon consisting of:\n",
        "\n",
        ">'Sale price', 'Sale date', 'Borough', 'Gross square feet', 'Total units', 'Year built', 'Land square feet', 'Zip code', 'Tax class at time of sale', ‘Neighborhood’, 'Building class category'\n",
        "\n",
        "The heat map (Figure 1) shows that the correlation is quite weak between the selected target ‘Sale price’ and features. A consequence which arises as a result of the weak correlation is an increased complexity of the ML algorithms as it is necessary to include more variables. Furthermore, as the feature count increases so does the need for pre-processing which in many cases causes a reduction of usable entries in the dataset."
      ]
    },
    {
      "cell_type": "markdown",
      "metadata": {
        "id": "gK0fDL6BVLtu"
      },
      "source": [
        "# Preprocessing"
      ]
    },
    {
      "cell_type": "code",
      "metadata": {
        "colab": {
          "base_uri": "https://localhost:8080/",
          "height": 406
        },
        "id": "sXKQHeDnVEUK",
        "outputId": "a4b61c4c-711a-451e-acee-5cabaf9e2052"
      },
      "source": [
        "# Selecting the data we would like to use and prting it\n",
        "data = df[['SALE PRICE', 'SALE DATE', 'BOROUGH', 'NEIGHBORHOOD', 'GROSS SQUARE FEET', 'TOTAL UNITS' ,'YEAR BUILT','LAND SQUARE FEET','ZIP CODE', 'TAX CLASS AT TIME OF SALE', 'BUILDING CLASS CATEGORY']].copy()\n",
        "data"
      ],
      "execution_count": null,
      "outputs": [
        {
          "data": {
            "text/html": [
              "<div>\n",
              "<style scoped>\n",
              "    .dataframe tbody tr th:only-of-type {\n",
              "        vertical-align: middle;\n",
              "    }\n",
              "\n",
              "    .dataframe tbody tr th {\n",
              "        vertical-align: top;\n",
              "    }\n",
              "\n",
              "    .dataframe thead th {\n",
              "        text-align: right;\n",
              "    }\n",
              "</style>\n",
              "<table border=\"1\" class=\"dataframe\">\n",
              "  <thead>\n",
              "    <tr style=\"text-align: right;\">\n",
              "      <th></th>\n",
              "      <th>SALE PRICE</th>\n",
              "      <th>SALE DATE</th>\n",
              "      <th>BOROUGH</th>\n",
              "      <th>NEIGHBORHOOD</th>\n",
              "      <th>GROSS SQUARE FEET</th>\n",
              "      <th>TOTAL UNITS</th>\n",
              "      <th>YEAR BUILT</th>\n",
              "      <th>LAND SQUARE FEET</th>\n",
              "      <th>ZIP CODE</th>\n",
              "      <th>TAX CLASS AT TIME OF SALE</th>\n",
              "      <th>BUILDING CLASS CATEGORY</th>\n",
              "    </tr>\n",
              "  </thead>\n",
              "  <tbody>\n",
              "    <tr>\n",
              "      <th>0</th>\n",
              "      <td>6625000</td>\n",
              "      <td>2017-07-19 00:00:00</td>\n",
              "      <td>1</td>\n",
              "      <td>ALPHABET CITY</td>\n",
              "      <td>6440</td>\n",
              "      <td>5</td>\n",
              "      <td>1900</td>\n",
              "      <td>1633</td>\n",
              "      <td>10009</td>\n",
              "      <td>2</td>\n",
              "      <td>07 RENTALS - WALKUP APARTMENTS</td>\n",
              "    </tr>\n",
              "    <tr>\n",
              "      <th>1</th>\n",
              "      <td>-</td>\n",
              "      <td>2016-12-14 00:00:00</td>\n",
              "      <td>1</td>\n",
              "      <td>ALPHABET CITY</td>\n",
              "      <td>18690</td>\n",
              "      <td>31</td>\n",
              "      <td>1900</td>\n",
              "      <td>4616</td>\n",
              "      <td>10009</td>\n",
              "      <td>2</td>\n",
              "      <td>07 RENTALS - WALKUP APARTMENTS</td>\n",
              "    </tr>\n",
              "    <tr>\n",
              "      <th>2</th>\n",
              "      <td>-</td>\n",
              "      <td>2016-12-09 00:00:00</td>\n",
              "      <td>1</td>\n",
              "      <td>ALPHABET CITY</td>\n",
              "      <td>7803</td>\n",
              "      <td>17</td>\n",
              "      <td>1900</td>\n",
              "      <td>2212</td>\n",
              "      <td>10009</td>\n",
              "      <td>2</td>\n",
              "      <td>07 RENTALS - WALKUP APARTMENTS</td>\n",
              "    </tr>\n",
              "    <tr>\n",
              "      <th>3</th>\n",
              "      <td>3936272</td>\n",
              "      <td>2016-09-23 00:00:00</td>\n",
              "      <td>1</td>\n",
              "      <td>ALPHABET CITY</td>\n",
              "      <td>6794</td>\n",
              "      <td>10</td>\n",
              "      <td>1913</td>\n",
              "      <td>2272</td>\n",
              "      <td>10009</td>\n",
              "      <td>2</td>\n",
              "      <td>07 RENTALS - WALKUP APARTMENTS</td>\n",
              "    </tr>\n",
              "    <tr>\n",
              "      <th>4</th>\n",
              "      <td>8000000</td>\n",
              "      <td>2016-11-17 00:00:00</td>\n",
              "      <td>1</td>\n",
              "      <td>ALPHABET CITY</td>\n",
              "      <td>4615</td>\n",
              "      <td>6</td>\n",
              "      <td>1900</td>\n",
              "      <td>2369</td>\n",
              "      <td>10009</td>\n",
              "      <td>2</td>\n",
              "      <td>07 RENTALS - WALKUP APARTMENTS</td>\n",
              "    </tr>\n",
              "    <tr>\n",
              "      <th>...</th>\n",
              "      <td>...</td>\n",
              "      <td>...</td>\n",
              "      <td>...</td>\n",
              "      <td>...</td>\n",
              "      <td>...</td>\n",
              "      <td>...</td>\n",
              "      <td>...</td>\n",
              "      <td>...</td>\n",
              "      <td>...</td>\n",
              "      <td>...</td>\n",
              "      <td>...</td>\n",
              "    </tr>\n",
              "    <tr>\n",
              "      <th>84543</th>\n",
              "      <td>450000</td>\n",
              "      <td>2016-11-28 00:00:00</td>\n",
              "      <td>5</td>\n",
              "      <td>WOODROW</td>\n",
              "      <td>2575</td>\n",
              "      <td>2</td>\n",
              "      <td>1998</td>\n",
              "      <td>2400</td>\n",
              "      <td>10309</td>\n",
              "      <td>1</td>\n",
              "      <td>02 TWO FAMILY DWELLINGS</td>\n",
              "    </tr>\n",
              "    <tr>\n",
              "      <th>84544</th>\n",
              "      <td>550000</td>\n",
              "      <td>2017-04-21 00:00:00</td>\n",
              "      <td>5</td>\n",
              "      <td>WOODROW</td>\n",
              "      <td>2377</td>\n",
              "      <td>2</td>\n",
              "      <td>1998</td>\n",
              "      <td>2498</td>\n",
              "      <td>10309</td>\n",
              "      <td>1</td>\n",
              "      <td>02 TWO FAMILY DWELLINGS</td>\n",
              "    </tr>\n",
              "    <tr>\n",
              "      <th>84545</th>\n",
              "      <td>460000</td>\n",
              "      <td>2017-07-05 00:00:00</td>\n",
              "      <td>5</td>\n",
              "      <td>WOODROW</td>\n",
              "      <td>1496</td>\n",
              "      <td>2</td>\n",
              "      <td>1925</td>\n",
              "      <td>4000</td>\n",
              "      <td>10309</td>\n",
              "      <td>1</td>\n",
              "      <td>02 TWO FAMILY DWELLINGS</td>\n",
              "    </tr>\n",
              "    <tr>\n",
              "      <th>84546</th>\n",
              "      <td>11693337</td>\n",
              "      <td>2016-12-21 00:00:00</td>\n",
              "      <td>5</td>\n",
              "      <td>WOODROW</td>\n",
              "      <td>64117</td>\n",
              "      <td>7</td>\n",
              "      <td>2001</td>\n",
              "      <td>208033</td>\n",
              "      <td>10309</td>\n",
              "      <td>4</td>\n",
              "      <td>22 STORE BUILDINGS</td>\n",
              "    </tr>\n",
              "    <tr>\n",
              "      <th>84547</th>\n",
              "      <td>69300</td>\n",
              "      <td>2016-10-27 00:00:00</td>\n",
              "      <td>5</td>\n",
              "      <td>WOODROW</td>\n",
              "      <td>2400</td>\n",
              "      <td>1</td>\n",
              "      <td>2006</td>\n",
              "      <td>10796</td>\n",
              "      <td>10309</td>\n",
              "      <td>4</td>\n",
              "      <td>35 INDOOR PUBLIC AND CULTURAL FACILITIES</td>\n",
              "    </tr>\n",
              "  </tbody>\n",
              "</table>\n",
              "<p>84548 rows × 11 columns</p>\n",
              "</div>"
            ],
            "text/plain": [
              "      SALE PRICE  ...                      BUILDING CLASS CATEGORY\n",
              "0        6625000  ...  07 RENTALS - WALKUP APARTMENTS             \n",
              "1            -    ...  07 RENTALS - WALKUP APARTMENTS             \n",
              "2            -    ...  07 RENTALS - WALKUP APARTMENTS             \n",
              "3        3936272  ...  07 RENTALS - WALKUP APARTMENTS             \n",
              "4        8000000  ...  07 RENTALS - WALKUP APARTMENTS             \n",
              "...          ...  ...                                          ...\n",
              "84543     450000  ...  02 TWO FAMILY DWELLINGS                    \n",
              "84544     550000  ...  02 TWO FAMILY DWELLINGS                    \n",
              "84545     460000  ...  02 TWO FAMILY DWELLINGS                    \n",
              "84546   11693337  ...  22 STORE BUILDINGS                         \n",
              "84547      69300  ...  35 INDOOR PUBLIC AND CULTURAL FACILITIES   \n",
              "\n",
              "[84548 rows x 11 columns]"
            ]
          },
          "execution_count": 5,
          "metadata": {
            "tags": []
          },
          "output_type": "execute_result"
        }
      ]
    },
    {
      "cell_type": "code",
      "metadata": {
        "colab": {
          "base_uri": "https://localhost:8080/"
        },
        "id": "0VbOI7VPVGG0",
        "outputId": "140d1caa-e4a5-422f-94df-6cfa2cb213c5"
      },
      "source": [
        "# Cheking the data types to see if anything needs to be changed\n",
        "data.dtypes"
      ],
      "execution_count": null,
      "outputs": [
        {
          "data": {
            "text/plain": [
              "SALE PRICE                   object\n",
              "SALE DATE                    object\n",
              "BOROUGH                       int64\n",
              "NEIGHBORHOOD                 object\n",
              "GROSS SQUARE FEET            object\n",
              "TOTAL UNITS                   int64\n",
              "YEAR BUILT                    int64\n",
              "LAND SQUARE FEET             object\n",
              "ZIP CODE                      int64\n",
              "TAX CLASS AT TIME OF SALE     int64\n",
              "BUILDING CLASS CATEGORY      object\n",
              "dtype: object"
            ]
          },
          "execution_count": 6,
          "metadata": {
            "tags": []
          },
          "output_type": "execute_result"
        }
      ]
    },
    {
      "cell_type": "code",
      "metadata": {
        "id": "UO01aobYVGNk"
      },
      "source": [
        "# Converts objects to string and integers\n",
        "data = data.convert_dtypes()"
      ],
      "execution_count": null,
      "outputs": []
    },
    {
      "cell_type": "code",
      "metadata": {
        "colab": {
          "base_uri": "https://localhost:8080/"
        },
        "id": "IryTc2vbVGQn",
        "outputId": "db7c8c8b-9e4c-42b6-9702-56f4ee6cb31c"
      },
      "source": [
        "# Converts some integers formatted as strings into integers\n",
        "data['LAND SQUARE FEET'] = pd.to_numeric(data['LAND SQUARE FEET'], errors = 'coerce')\n",
        "data['GROSS SQUARE FEET'] = pd.to_numeric(data['GROSS SQUARE FEET'], errors = 'coerce')\n",
        "data['SALE PRICE'] = pd.to_numeric(data['SALE PRICE'], errors = 'coerce')\n",
        "data.dtypes"
      ],
      "execution_count": null,
      "outputs": [
        {
          "data": {
            "text/plain": [
              "SALE PRICE                   float64\n",
              "SALE DATE                     string\n",
              "BOROUGH                        Int64\n",
              "NEIGHBORHOOD                  string\n",
              "GROSS SQUARE FEET            float64\n",
              "TOTAL UNITS                    Int64\n",
              "YEAR BUILT                     Int64\n",
              "LAND SQUARE FEET             float64\n",
              "ZIP CODE                       Int64\n",
              "TAX CLASS AT TIME OF SALE      Int64\n",
              "BUILDING CLASS CATEGORY       string\n",
              "dtype: object"
            ]
          },
          "execution_count": 8,
          "metadata": {
            "tags": []
          },
          "output_type": "execute_result"
        }
      ]
    },
    {
      "cell_type": "markdown",
      "metadata": {
        "id": "ERXuWFCZQ5Vs"
      },
      "source": [
        "The median household income in New York was 61,937 USD in 2018, which meant that considering a building price of more than 1,000,000 USD was deemed unrealistic for the target group (Guzman, 2019, p. 2). Therefore, we proceeded to limit the scope of sale price to values between 10,000 USD and 1,000,000 USD to remove buildings sold at unrealistically low prices, as well as the unreasonably expensive outliers that skewed the data. There were 11,230 rows with a value below 100 USD, which was deemed to either be incorrect, or not a legitimate sale. This led to a total of 27,215 rows being dropped."
      ]
    },
    {
      "cell_type": "code",
      "metadata": {
        "colab": {
          "base_uri": "https://localhost:8080/",
          "height": 406
        },
        "id": "w1wDi4jTVGZp",
        "outputId": "419b0960-8e5e-49ef-bec5-0240409377ca"
      },
      "source": [
        "# Removes sale prices below 1000 USD as we aren't intrested in looking at those, as well as the ones above 1000000 USD to remove the extreme outliers and set a scope\n",
        "i = 0\n",
        "to_remove = []\n",
        "for cell in data['SALE PRICE']:\n",
        "    if cell <= 10000 or cell > 1000000:\n",
        "        to_remove.append(i)\n",
        "    i+=1\n",
        "\n",
        "data = data.drop(index=to_remove)\n",
        "data"
      ],
      "execution_count": null,
      "outputs": [
        {
          "data": {
            "text/html": [
              "<div>\n",
              "<style scoped>\n",
              "    .dataframe tbody tr th:only-of-type {\n",
              "        vertical-align: middle;\n",
              "    }\n",
              "\n",
              "    .dataframe tbody tr th {\n",
              "        vertical-align: top;\n",
              "    }\n",
              "\n",
              "    .dataframe thead th {\n",
              "        text-align: right;\n",
              "    }\n",
              "</style>\n",
              "<table border=\"1\" class=\"dataframe\">\n",
              "  <thead>\n",
              "    <tr style=\"text-align: right;\">\n",
              "      <th></th>\n",
              "      <th>SALE PRICE</th>\n",
              "      <th>SALE DATE</th>\n",
              "      <th>BOROUGH</th>\n",
              "      <th>NEIGHBORHOOD</th>\n",
              "      <th>GROSS SQUARE FEET</th>\n",
              "      <th>TOTAL UNITS</th>\n",
              "      <th>YEAR BUILT</th>\n",
              "      <th>LAND SQUARE FEET</th>\n",
              "      <th>ZIP CODE</th>\n",
              "      <th>TAX CLASS AT TIME OF SALE</th>\n",
              "      <th>BUILDING CLASS CATEGORY</th>\n",
              "    </tr>\n",
              "  </thead>\n",
              "  <tbody>\n",
              "    <tr>\n",
              "      <th>1</th>\n",
              "      <td>NaN</td>\n",
              "      <td>2016-12-14 00:00:00</td>\n",
              "      <td>1</td>\n",
              "      <td>ALPHABET CITY</td>\n",
              "      <td>18690.0</td>\n",
              "      <td>31</td>\n",
              "      <td>1900</td>\n",
              "      <td>4616.0</td>\n",
              "      <td>10009</td>\n",
              "      <td>2</td>\n",
              "      <td>07 RENTALS - WALKUP APARTMENTS</td>\n",
              "    </tr>\n",
              "    <tr>\n",
              "      <th>2</th>\n",
              "      <td>NaN</td>\n",
              "      <td>2016-12-09 00:00:00</td>\n",
              "      <td>1</td>\n",
              "      <td>ALPHABET CITY</td>\n",
              "      <td>7803.0</td>\n",
              "      <td>17</td>\n",
              "      <td>1900</td>\n",
              "      <td>2212.0</td>\n",
              "      <td>10009</td>\n",
              "      <td>2</td>\n",
              "      <td>07 RENTALS - WALKUP APARTMENTS</td>\n",
              "    </tr>\n",
              "    <tr>\n",
              "      <th>5</th>\n",
              "      <td>NaN</td>\n",
              "      <td>2017-07-20 00:00:00</td>\n",
              "      <td>1</td>\n",
              "      <td>ALPHABET CITY</td>\n",
              "      <td>9730.0</td>\n",
              "      <td>20</td>\n",
              "      <td>1900</td>\n",
              "      <td>2581.0</td>\n",
              "      <td>10009</td>\n",
              "      <td>2</td>\n",
              "      <td>07 RENTALS - WALKUP APARTMENTS</td>\n",
              "    </tr>\n",
              "    <tr>\n",
              "      <th>7</th>\n",
              "      <td>NaN</td>\n",
              "      <td>2017-07-20 00:00:00</td>\n",
              "      <td>1</td>\n",
              "      <td>ALPHABET CITY</td>\n",
              "      <td>21007.0</td>\n",
              "      <td>46</td>\n",
              "      <td>1900</td>\n",
              "      <td>5163.0</td>\n",
              "      <td>10009</td>\n",
              "      <td>2</td>\n",
              "      <td>07 RENTALS - WALKUP APARTMENTS</td>\n",
              "    </tr>\n",
              "    <tr>\n",
              "      <th>8</th>\n",
              "      <td>NaN</td>\n",
              "      <td>2017-06-20 00:00:00</td>\n",
              "      <td>1</td>\n",
              "      <td>ALPHABET CITY</td>\n",
              "      <td>9198.0</td>\n",
              "      <td>15</td>\n",
              "      <td>1920</td>\n",
              "      <td>1534.0</td>\n",
              "      <td>10009</td>\n",
              "      <td>2</td>\n",
              "      <td>08 RENTALS - ELEVATOR APARTMENTS</td>\n",
              "    </tr>\n",
              "    <tr>\n",
              "      <th>...</th>\n",
              "      <td>...</td>\n",
              "      <td>...</td>\n",
              "      <td>...</td>\n",
              "      <td>...</td>\n",
              "      <td>...</td>\n",
              "      <td>...</td>\n",
              "      <td>...</td>\n",
              "      <td>...</td>\n",
              "      <td>...</td>\n",
              "      <td>...</td>\n",
              "      <td>...</td>\n",
              "    </tr>\n",
              "    <tr>\n",
              "      <th>84542</th>\n",
              "      <td>NaN</td>\n",
              "      <td>2016-12-01 00:00:00</td>\n",
              "      <td>5</td>\n",
              "      <td>WOODROW</td>\n",
              "      <td>1800.0</td>\n",
              "      <td>2</td>\n",
              "      <td>1997</td>\n",
              "      <td>3020.0</td>\n",
              "      <td>10309</td>\n",
              "      <td>1</td>\n",
              "      <td>02 TWO FAMILY DWELLINGS</td>\n",
              "    </tr>\n",
              "    <tr>\n",
              "      <th>84543</th>\n",
              "      <td>450000.0</td>\n",
              "      <td>2016-11-28 00:00:00</td>\n",
              "      <td>5</td>\n",
              "      <td>WOODROW</td>\n",
              "      <td>2575.0</td>\n",
              "      <td>2</td>\n",
              "      <td>1998</td>\n",
              "      <td>2400.0</td>\n",
              "      <td>10309</td>\n",
              "      <td>1</td>\n",
              "      <td>02 TWO FAMILY DWELLINGS</td>\n",
              "    </tr>\n",
              "    <tr>\n",
              "      <th>84544</th>\n",
              "      <td>550000.0</td>\n",
              "      <td>2017-04-21 00:00:00</td>\n",
              "      <td>5</td>\n",
              "      <td>WOODROW</td>\n",
              "      <td>2377.0</td>\n",
              "      <td>2</td>\n",
              "      <td>1998</td>\n",
              "      <td>2498.0</td>\n",
              "      <td>10309</td>\n",
              "      <td>1</td>\n",
              "      <td>02 TWO FAMILY DWELLINGS</td>\n",
              "    </tr>\n",
              "    <tr>\n",
              "      <th>84545</th>\n",
              "      <td>460000.0</td>\n",
              "      <td>2017-07-05 00:00:00</td>\n",
              "      <td>5</td>\n",
              "      <td>WOODROW</td>\n",
              "      <td>1496.0</td>\n",
              "      <td>2</td>\n",
              "      <td>1925</td>\n",
              "      <td>4000.0</td>\n",
              "      <td>10309</td>\n",
              "      <td>1</td>\n",
              "      <td>02 TWO FAMILY DWELLINGS</td>\n",
              "    </tr>\n",
              "    <tr>\n",
              "      <th>84547</th>\n",
              "      <td>69300.0</td>\n",
              "      <td>2016-10-27 00:00:00</td>\n",
              "      <td>5</td>\n",
              "      <td>WOODROW</td>\n",
              "      <td>2400.0</td>\n",
              "      <td>1</td>\n",
              "      <td>2006</td>\n",
              "      <td>10796.0</td>\n",
              "      <td>10309</td>\n",
              "      <td>4</td>\n",
              "      <td>35 INDOOR PUBLIC AND CULTURAL FACILITIES</td>\n",
              "    </tr>\n",
              "  </tbody>\n",
              "</table>\n",
              "<p>57369 rows × 11 columns</p>\n",
              "</div>"
            ],
            "text/plain": [
              "       SALE PRICE  ...                      BUILDING CLASS CATEGORY\n",
              "1             NaN  ...  07 RENTALS - WALKUP APARTMENTS             \n",
              "2             NaN  ...  07 RENTALS - WALKUP APARTMENTS             \n",
              "5             NaN  ...  07 RENTALS - WALKUP APARTMENTS             \n",
              "7             NaN  ...  07 RENTALS - WALKUP APARTMENTS             \n",
              "8             NaN  ...  08 RENTALS - ELEVATOR APARTMENTS           \n",
              "...           ...  ...                                          ...\n",
              "84542         NaN  ...  02 TWO FAMILY DWELLINGS                    \n",
              "84543    450000.0  ...  02 TWO FAMILY DWELLINGS                    \n",
              "84544    550000.0  ...  02 TWO FAMILY DWELLINGS                    \n",
              "84545    460000.0  ...  02 TWO FAMILY DWELLINGS                    \n",
              "84547     69300.0  ...  35 INDOOR PUBLIC AND CULTURAL FACILITIES   \n",
              "\n",
              "[57369 rows x 11 columns]"
            ]
          },
          "execution_count": 9,
          "metadata": {
            "tags": []
          },
          "output_type": "execute_result"
        }
      ]
    },
    {
      "cell_type": "markdown",
      "metadata": {
        "id": "1KbSnh4HQ_sr"
      },
      "source": [
        "\n",
        "Checking the data set for missing values revealed that 'Sale price' had 14,561 missing data points, which had to be dropped as a target value with a missing data point can not be predicted. 'Gross square feet' and 'Land square feet' also had 19,944 and 18,724 missing values respectively. As these were considered two important features a decision was made to drop the rows with missing values to assure as accurate predictions as possible. This led to a reduction in the dataset from 57,369 rows to 28,737 rows, almost halving the dataset. \n"
      ]
    },
    {
      "cell_type": "code",
      "metadata": {
        "colab": {
          "base_uri": "https://localhost:8080/"
        },
        "id": "l1qx8m8pVGb5",
        "outputId": "2efab9bb-578c-4151-8a1b-9fef2acd7889"
      },
      "source": [
        "# Converts empty values to NaN values and chekcs if there are any NaN values in our data\n",
        "data.replace(\"\", np.nan, inplace=True)\n",
        "data.isnull().sum(axis = 0)"
      ],
      "execution_count": null,
      "outputs": [
        {
          "data": {
            "text/plain": [
              "SALE PRICE                   14561\n",
              "SALE DATE                        0\n",
              "BOROUGH                          0\n",
              "NEIGHBORHOOD                     0\n",
              "GROSS SQUARE FEET            19944\n",
              "TOTAL UNITS                      0\n",
              "YEAR BUILT                       0\n",
              "LAND SQUARE FEET             18724\n",
              "ZIP CODE                         0\n",
              "TAX CLASS AT TIME OF SALE        0\n",
              "BUILDING CLASS CATEGORY          0\n",
              "dtype: int64"
            ]
          },
          "execution_count": 10,
          "metadata": {
            "tags": []
          },
          "output_type": "execute_result"
        }
      ]
    },
    {
      "cell_type": "code",
      "metadata": {
        "colab": {
          "base_uri": "https://localhost:8080/"
        },
        "id": "JzaNMc8zDe8P",
        "outputId": "79b9ccb4-a260-4a51-be38-6a6818966cb5"
      },
      "source": [
        "# Drops rows with empty values if there are any\n",
        "data = data.dropna()\n",
        "data.isnull().sum(axis = 0)"
      ],
      "execution_count": null,
      "outputs": [
        {
          "data": {
            "text/plain": [
              "SALE PRICE                   0\n",
              "SALE DATE                    0\n",
              "BOROUGH                      0\n",
              "NEIGHBORHOOD                 0\n",
              "GROSS SQUARE FEET            0\n",
              "TOTAL UNITS                  0\n",
              "YEAR BUILT                   0\n",
              "LAND SQUARE FEET             0\n",
              "ZIP CODE                     0\n",
              "TAX CLASS AT TIME OF SALE    0\n",
              "BUILDING CLASS CATEGORY      0\n",
              "dtype: int64"
            ]
          },
          "execution_count": 11,
          "metadata": {
            "tags": []
          },
          "output_type": "execute_result"
        }
      ]
    },
    {
      "cell_type": "markdown",
      "metadata": {
        "id": "eBTeL6w5RHN_"
      },
      "source": [
        "Most of the selected features were left intact, except 'Sale date' which was converted into 'Sale month' to potentially create a stronger correlation. As all the sale dates were formatted in the same way and label encoding would make it unusable; it was converted and split into months. In sequence the sale date column was dropped as sale month was deemed more meaningful."
      ]
    },
    {
      "cell_type": "code",
      "metadata": {
        "colab": {
          "base_uri": "https://localhost:8080/",
          "height": 406
        },
        "id": "dH7Yzn9IVGea",
        "outputId": "046faed6-df1d-4610-b007-67f99071ebf8"
      },
      "source": [
        "# Converts sale date to sale month, as the data only spans one year this could be a useful metric as prices fluctuate with time\n",
        "dates = []\n",
        "for date in data['SALE DATE']:\n",
        "    dates.append(date[5:7])\n",
        "data.insert(1,'SALE MONTH', dates)\n",
        "\n",
        "data = data.drop( ['SALE DATE'], axis=1)\n",
        "data['SALE MONTH'] = pd.to_numeric(data['SALE MONTH'], errors = 'coerce')\n",
        "data"
      ],
      "execution_count": null,
      "outputs": [
        {
          "data": {
            "text/html": [
              "<div>\n",
              "<style scoped>\n",
              "    .dataframe tbody tr th:only-of-type {\n",
              "        vertical-align: middle;\n",
              "    }\n",
              "\n",
              "    .dataframe tbody tr th {\n",
              "        vertical-align: top;\n",
              "    }\n",
              "\n",
              "    .dataframe thead th {\n",
              "        text-align: right;\n",
              "    }\n",
              "</style>\n",
              "<table border=\"1\" class=\"dataframe\">\n",
              "  <thead>\n",
              "    <tr style=\"text-align: right;\">\n",
              "      <th></th>\n",
              "      <th>SALE PRICE</th>\n",
              "      <th>SALE MONTH</th>\n",
              "      <th>BOROUGH</th>\n",
              "      <th>NEIGHBORHOOD</th>\n",
              "      <th>GROSS SQUARE FEET</th>\n",
              "      <th>TOTAL UNITS</th>\n",
              "      <th>YEAR BUILT</th>\n",
              "      <th>LAND SQUARE FEET</th>\n",
              "      <th>ZIP CODE</th>\n",
              "      <th>TAX CLASS AT TIME OF SALE</th>\n",
              "      <th>BUILDING CLASS CATEGORY</th>\n",
              "    </tr>\n",
              "  </thead>\n",
              "  <tbody>\n",
              "    <tr>\n",
              "      <th>223</th>\n",
              "      <td>416790.0</td>\n",
              "      <td>8</td>\n",
              "      <td>1</td>\n",
              "      <td>CHELSEA</td>\n",
              "      <td>6330.0</td>\n",
              "      <td>9</td>\n",
              "      <td>1901</td>\n",
              "      <td>1566.0</td>\n",
              "      <td>10011</td>\n",
              "      <td>2</td>\n",
              "      <td>07 RENTALS - WALKUP APARTMENTS</td>\n",
              "    </tr>\n",
              "    <tr>\n",
              "      <th>224</th>\n",
              "      <td>630370.0</td>\n",
              "      <td>8</td>\n",
              "      <td>1</td>\n",
              "      <td>CHELSEA</td>\n",
              "      <td>6330.0</td>\n",
              "      <td>9</td>\n",
              "      <td>1901</td>\n",
              "      <td>1566.0</td>\n",
              "      <td>10011</td>\n",
              "      <td>2</td>\n",
              "      <td>07 RENTALS - WALKUP APARTMENTS</td>\n",
              "    </tr>\n",
              "    <tr>\n",
              "      <th>277</th>\n",
              "      <td>282000.0</td>\n",
              "      <td>10</td>\n",
              "      <td>1</td>\n",
              "      <td>CHELSEA</td>\n",
              "      <td>12200.0</td>\n",
              "      <td>24</td>\n",
              "      <td>1850</td>\n",
              "      <td>4600.0</td>\n",
              "      <td>10011</td>\n",
              "      <td>2</td>\n",
              "      <td>09 COOPS - WALKUP APARTMENTS</td>\n",
              "    </tr>\n",
              "    <tr>\n",
              "      <th>2062</th>\n",
              "      <td>220000.0</td>\n",
              "      <td>12</td>\n",
              "      <td>1</td>\n",
              "      <td>FASHION</td>\n",
              "      <td>79465.0</td>\n",
              "      <td>15</td>\n",
              "      <td>1913</td>\n",
              "      <td>6994.0</td>\n",
              "      <td>10001</td>\n",
              "      <td>4</td>\n",
              "      <td>23 LOFT BUILDINGS</td>\n",
              "    </tr>\n",
              "    <tr>\n",
              "      <th>2587</th>\n",
              "      <td>489854.0</td>\n",
              "      <td>1</td>\n",
              "      <td>1</td>\n",
              "      <td>FLATIRON</td>\n",
              "      <td>30680.0</td>\n",
              "      <td>16</td>\n",
              "      <td>1900</td>\n",
              "      <td>4600.0</td>\n",
              "      <td>10003</td>\n",
              "      <td>2</td>\n",
              "      <td>08 RENTALS - ELEVATOR APARTMENTS</td>\n",
              "    </tr>\n",
              "    <tr>\n",
              "      <th>...</th>\n",
              "      <td>...</td>\n",
              "      <td>...</td>\n",
              "      <td>...</td>\n",
              "      <td>...</td>\n",
              "      <td>...</td>\n",
              "      <td>...</td>\n",
              "      <td>...</td>\n",
              "      <td>...</td>\n",
              "      <td>...</td>\n",
              "      <td>...</td>\n",
              "      <td>...</td>\n",
              "    </tr>\n",
              "    <tr>\n",
              "      <th>84541</th>\n",
              "      <td>648000.0</td>\n",
              "      <td>12</td>\n",
              "      <td>5</td>\n",
              "      <td>WOODROW</td>\n",
              "      <td>2160.0</td>\n",
              "      <td>2</td>\n",
              "      <td>1994</td>\n",
              "      <td>11088.0</td>\n",
              "      <td>10309</td>\n",
              "      <td>1</td>\n",
              "      <td>02 TWO FAMILY DWELLINGS</td>\n",
              "    </tr>\n",
              "    <tr>\n",
              "      <th>84543</th>\n",
              "      <td>450000.0</td>\n",
              "      <td>11</td>\n",
              "      <td>5</td>\n",
              "      <td>WOODROW</td>\n",
              "      <td>2575.0</td>\n",
              "      <td>2</td>\n",
              "      <td>1998</td>\n",
              "      <td>2400.0</td>\n",
              "      <td>10309</td>\n",
              "      <td>1</td>\n",
              "      <td>02 TWO FAMILY DWELLINGS</td>\n",
              "    </tr>\n",
              "    <tr>\n",
              "      <th>84544</th>\n",
              "      <td>550000.0</td>\n",
              "      <td>4</td>\n",
              "      <td>5</td>\n",
              "      <td>WOODROW</td>\n",
              "      <td>2377.0</td>\n",
              "      <td>2</td>\n",
              "      <td>1998</td>\n",
              "      <td>2498.0</td>\n",
              "      <td>10309</td>\n",
              "      <td>1</td>\n",
              "      <td>02 TWO FAMILY DWELLINGS</td>\n",
              "    </tr>\n",
              "    <tr>\n",
              "      <th>84545</th>\n",
              "      <td>460000.0</td>\n",
              "      <td>7</td>\n",
              "      <td>5</td>\n",
              "      <td>WOODROW</td>\n",
              "      <td>1496.0</td>\n",
              "      <td>2</td>\n",
              "      <td>1925</td>\n",
              "      <td>4000.0</td>\n",
              "      <td>10309</td>\n",
              "      <td>1</td>\n",
              "      <td>02 TWO FAMILY DWELLINGS</td>\n",
              "    </tr>\n",
              "    <tr>\n",
              "      <th>84547</th>\n",
              "      <td>69300.0</td>\n",
              "      <td>10</td>\n",
              "      <td>5</td>\n",
              "      <td>WOODROW</td>\n",
              "      <td>2400.0</td>\n",
              "      <td>1</td>\n",
              "      <td>2006</td>\n",
              "      <td>10796.0</td>\n",
              "      <td>10309</td>\n",
              "      <td>4</td>\n",
              "      <td>35 INDOOR PUBLIC AND CULTURAL FACILITIES</td>\n",
              "    </tr>\n",
              "  </tbody>\n",
              "</table>\n",
              "<p>28737 rows × 11 columns</p>\n",
              "</div>"
            ],
            "text/plain": [
              "       SALE PRICE  ...                      BUILDING CLASS CATEGORY\n",
              "223      416790.0  ...  07 RENTALS - WALKUP APARTMENTS             \n",
              "224      630370.0  ...  07 RENTALS - WALKUP APARTMENTS             \n",
              "277      282000.0  ...  09 COOPS - WALKUP APARTMENTS               \n",
              "2062     220000.0  ...  23 LOFT BUILDINGS                          \n",
              "2587     489854.0  ...  08 RENTALS - ELEVATOR APARTMENTS           \n",
              "...           ...  ...                                          ...\n",
              "84541    648000.0  ...  02 TWO FAMILY DWELLINGS                    \n",
              "84543    450000.0  ...  02 TWO FAMILY DWELLINGS                    \n",
              "84544    550000.0  ...  02 TWO FAMILY DWELLINGS                    \n",
              "84545    460000.0  ...  02 TWO FAMILY DWELLINGS                    \n",
              "84547     69300.0  ...  35 INDOOR PUBLIC AND CULTURAL FACILITIES   \n",
              "\n",
              "[28737 rows x 11 columns]"
            ]
          },
          "execution_count": 12,
          "metadata": {
            "tags": []
          },
          "output_type": "execute_result"
        }
      ]
    },
    {
      "cell_type": "markdown",
      "metadata": {
        "id": "kzAVnPRddaod"
      },
      "source": [
        "An attempt at dimension reduction on gross square feet and land square feet by multiplying the columns was made. However, the predictions resulted in slightly worse results of about 1% lower scores across the board. It was therefore decided to comment it out, but still conserve it in the code for potential further testing."
      ]
    },
    {
      "cell_type": "code",
      "metadata": {
        "id": "e8vKMHniDoWP"
      },
      "source": [
        "# An attempt at feature reduction, gave abou 1% worse results in all our algorithms so we removed it\n",
        "#data[\"TOTAL SQARE FEET\"] = data[\"GROSS SQUARE FEET\"] * data[\"LAND SQUARE FEET\"]\n",
        "#data = data.drop([\"GROSS SQUARE FEET\"], axis=1)\n",
        "#data = data.drop([\"LAND SQUARE FEET\"], axis=1)"
      ],
      "execution_count": null,
      "outputs": []
    },
    {
      "cell_type": "markdown",
      "metadata": {
        "id": "jdL9tlPrRKfM"
      },
      "source": [
        "We proceed to factorize/label encode the remaining string values. In the final data set the only applicable feature is 'Neighbourhood'. However, the code is written to allow any remaining string values to be factorized as it was beneficial when testing different data frames and features. The reason was to make sure all the data is easy to understand for the respective algorithms. Besides integers perform much better than categorical data, which the classifiers do not accept as valid input."
      ]
    },
    {
      "cell_type": "code",
      "metadata": {
        "colab": {
          "base_uri": "https://localhost:8080/"
        },
        "id": "ONg0B5IvVGg3",
        "outputId": "6186d678-9be1-400a-89ac-a7b8fdeb9606"
      },
      "source": [
        "# Factorise / label encode reamaining string values turning each unique value into a number, currenly only applied to the Neighbourhood column and building class category\n",
        "for column in data:\n",
        "    if pd.api.types.is_string_dtype(data[column]) is True:\n",
        "        data[column], uniques = pd.factorize(data[column])\n",
        "data.dtypes"
      ],
      "execution_count": null,
      "outputs": [
        {
          "data": {
            "text/plain": [
              "SALE PRICE                   float64\n",
              "SALE MONTH                     int64\n",
              "BOROUGH                        Int64\n",
              "NEIGHBORHOOD                   int64\n",
              "GROSS SQUARE FEET            float64\n",
              "TOTAL UNITS                    Int64\n",
              "YEAR BUILT                     Int64\n",
              "LAND SQUARE FEET             float64\n",
              "ZIP CODE                       Int64\n",
              "TAX CLASS AT TIME OF SALE      Int64\n",
              "BUILDING CLASS CATEGORY        int64\n",
              "dtype: object"
            ]
          },
          "execution_count": 14,
          "metadata": {
            "tags": []
          },
          "output_type": "execute_result"
        }
      ]
    },
    {
      "cell_type": "markdown",
      "metadata": {
        "id": "K1fijfJnpPKH"
      },
      "source": [
        "The final part of the general pre-processing consisted of one-hot encoding borough, this was done to ensure the algorithms understood the unique boroughs were different entities and avoiding the misinterpretation that borough 1<5. We also dropped the first column to avoid issues with the dummy variable trap which would have ingested multicollinearity into the dataset. As it would cause the respective features to correlate with each other (Matho 2019)."
      ]
    },
    {
      "cell_type": "code",
      "metadata": {
        "colab": {
          "base_uri": "https://localhost:8080/",
          "height": 406
        },
        "id": "VIscTGjiGvd6",
        "outputId": "da54a3cc-832e-48e4-8538-63640ddb092a"
      },
      "source": [
        "# One-hot encodes borough, we also make sure to drop the first column to account for multicollinearity and the dummy variable trap\n",
        "borough = pd.get_dummies(data['BOROUGH'], prefix='BOROUGH', drop_first=True)\n",
        "borough\n",
        "data = data.drop( ['BOROUGH'], axis=1)\n",
        "data = data.join(borough)\n",
        "data"
      ],
      "execution_count": null,
      "outputs": [
        {
          "data": {
            "text/html": [
              "<div>\n",
              "<style scoped>\n",
              "    .dataframe tbody tr th:only-of-type {\n",
              "        vertical-align: middle;\n",
              "    }\n",
              "\n",
              "    .dataframe tbody tr th {\n",
              "        vertical-align: top;\n",
              "    }\n",
              "\n",
              "    .dataframe thead th {\n",
              "        text-align: right;\n",
              "    }\n",
              "</style>\n",
              "<table border=\"1\" class=\"dataframe\">\n",
              "  <thead>\n",
              "    <tr style=\"text-align: right;\">\n",
              "      <th></th>\n",
              "      <th>SALE PRICE</th>\n",
              "      <th>SALE MONTH</th>\n",
              "      <th>NEIGHBORHOOD</th>\n",
              "      <th>GROSS SQUARE FEET</th>\n",
              "      <th>TOTAL UNITS</th>\n",
              "      <th>YEAR BUILT</th>\n",
              "      <th>LAND SQUARE FEET</th>\n",
              "      <th>ZIP CODE</th>\n",
              "      <th>TAX CLASS AT TIME OF SALE</th>\n",
              "      <th>BUILDING CLASS CATEGORY</th>\n",
              "      <th>BOROUGH_2</th>\n",
              "      <th>BOROUGH_3</th>\n",
              "      <th>BOROUGH_4</th>\n",
              "      <th>BOROUGH_5</th>\n",
              "    </tr>\n",
              "  </thead>\n",
              "  <tbody>\n",
              "    <tr>\n",
              "      <th>223</th>\n",
              "      <td>416790.0</td>\n",
              "      <td>8</td>\n",
              "      <td>0</td>\n",
              "      <td>6330.0</td>\n",
              "      <td>9</td>\n",
              "      <td>1901</td>\n",
              "      <td>1566.0</td>\n",
              "      <td>10011</td>\n",
              "      <td>2</td>\n",
              "      <td>0</td>\n",
              "      <td>0</td>\n",
              "      <td>0</td>\n",
              "      <td>0</td>\n",
              "      <td>0</td>\n",
              "    </tr>\n",
              "    <tr>\n",
              "      <th>224</th>\n",
              "      <td>630370.0</td>\n",
              "      <td>8</td>\n",
              "      <td>0</td>\n",
              "      <td>6330.0</td>\n",
              "      <td>9</td>\n",
              "      <td>1901</td>\n",
              "      <td>1566.0</td>\n",
              "      <td>10011</td>\n",
              "      <td>2</td>\n",
              "      <td>0</td>\n",
              "      <td>0</td>\n",
              "      <td>0</td>\n",
              "      <td>0</td>\n",
              "      <td>0</td>\n",
              "    </tr>\n",
              "    <tr>\n",
              "      <th>277</th>\n",
              "      <td>282000.0</td>\n",
              "      <td>10</td>\n",
              "      <td>0</td>\n",
              "      <td>12200.0</td>\n",
              "      <td>24</td>\n",
              "      <td>1850</td>\n",
              "      <td>4600.0</td>\n",
              "      <td>10011</td>\n",
              "      <td>2</td>\n",
              "      <td>1</td>\n",
              "      <td>0</td>\n",
              "      <td>0</td>\n",
              "      <td>0</td>\n",
              "      <td>0</td>\n",
              "    </tr>\n",
              "    <tr>\n",
              "      <th>2062</th>\n",
              "      <td>220000.0</td>\n",
              "      <td>12</td>\n",
              "      <td>1</td>\n",
              "      <td>79465.0</td>\n",
              "      <td>15</td>\n",
              "      <td>1913</td>\n",
              "      <td>6994.0</td>\n",
              "      <td>10001</td>\n",
              "      <td>4</td>\n",
              "      <td>2</td>\n",
              "      <td>0</td>\n",
              "      <td>0</td>\n",
              "      <td>0</td>\n",
              "      <td>0</td>\n",
              "    </tr>\n",
              "    <tr>\n",
              "      <th>2587</th>\n",
              "      <td>489854.0</td>\n",
              "      <td>1</td>\n",
              "      <td>2</td>\n",
              "      <td>30680.0</td>\n",
              "      <td>16</td>\n",
              "      <td>1900</td>\n",
              "      <td>4600.0</td>\n",
              "      <td>10003</td>\n",
              "      <td>2</td>\n",
              "      <td>3</td>\n",
              "      <td>0</td>\n",
              "      <td>0</td>\n",
              "      <td>0</td>\n",
              "      <td>0</td>\n",
              "    </tr>\n",
              "    <tr>\n",
              "      <th>...</th>\n",
              "      <td>...</td>\n",
              "      <td>...</td>\n",
              "      <td>...</td>\n",
              "      <td>...</td>\n",
              "      <td>...</td>\n",
              "      <td>...</td>\n",
              "      <td>...</td>\n",
              "      <td>...</td>\n",
              "      <td>...</td>\n",
              "      <td>...</td>\n",
              "      <td>...</td>\n",
              "      <td>...</td>\n",
              "      <td>...</td>\n",
              "      <td>...</td>\n",
              "    </tr>\n",
              "    <tr>\n",
              "      <th>84541</th>\n",
              "      <td>648000.0</td>\n",
              "      <td>12</td>\n",
              "      <td>227</td>\n",
              "      <td>2160.0</td>\n",
              "      <td>2</td>\n",
              "      <td>1994</td>\n",
              "      <td>11088.0</td>\n",
              "      <td>10309</td>\n",
              "      <td>1</td>\n",
              "      <td>5</td>\n",
              "      <td>0</td>\n",
              "      <td>0</td>\n",
              "      <td>0</td>\n",
              "      <td>1</td>\n",
              "    </tr>\n",
              "    <tr>\n",
              "      <th>84543</th>\n",
              "      <td>450000.0</td>\n",
              "      <td>11</td>\n",
              "      <td>227</td>\n",
              "      <td>2575.0</td>\n",
              "      <td>2</td>\n",
              "      <td>1998</td>\n",
              "      <td>2400.0</td>\n",
              "      <td>10309</td>\n",
              "      <td>1</td>\n",
              "      <td>5</td>\n",
              "      <td>0</td>\n",
              "      <td>0</td>\n",
              "      <td>0</td>\n",
              "      <td>1</td>\n",
              "    </tr>\n",
              "    <tr>\n",
              "      <th>84544</th>\n",
              "      <td>550000.0</td>\n",
              "      <td>4</td>\n",
              "      <td>227</td>\n",
              "      <td>2377.0</td>\n",
              "      <td>2</td>\n",
              "      <td>1998</td>\n",
              "      <td>2498.0</td>\n",
              "      <td>10309</td>\n",
              "      <td>1</td>\n",
              "      <td>5</td>\n",
              "      <td>0</td>\n",
              "      <td>0</td>\n",
              "      <td>0</td>\n",
              "      <td>1</td>\n",
              "    </tr>\n",
              "    <tr>\n",
              "      <th>84545</th>\n",
              "      <td>460000.0</td>\n",
              "      <td>7</td>\n",
              "      <td>227</td>\n",
              "      <td>1496.0</td>\n",
              "      <td>2</td>\n",
              "      <td>1925</td>\n",
              "      <td>4000.0</td>\n",
              "      <td>10309</td>\n",
              "      <td>1</td>\n",
              "      <td>5</td>\n",
              "      <td>0</td>\n",
              "      <td>0</td>\n",
              "      <td>0</td>\n",
              "      <td>1</td>\n",
              "    </tr>\n",
              "    <tr>\n",
              "      <th>84547</th>\n",
              "      <td>69300.0</td>\n",
              "      <td>10</td>\n",
              "      <td>227</td>\n",
              "      <td>2400.0</td>\n",
              "      <td>1</td>\n",
              "      <td>2006</td>\n",
              "      <td>10796.0</td>\n",
              "      <td>10309</td>\n",
              "      <td>4</td>\n",
              "      <td>41</td>\n",
              "      <td>0</td>\n",
              "      <td>0</td>\n",
              "      <td>0</td>\n",
              "      <td>1</td>\n",
              "    </tr>\n",
              "  </tbody>\n",
              "</table>\n",
              "<p>28737 rows × 14 columns</p>\n",
              "</div>"
            ],
            "text/plain": [
              "       SALE PRICE  SALE MONTH  NEIGHBORHOOD  ...  BOROUGH_3  BOROUGH_4  BOROUGH_5\n",
              "223      416790.0           8             0  ...          0          0          0\n",
              "224      630370.0           8             0  ...          0          0          0\n",
              "277      282000.0          10             0  ...          0          0          0\n",
              "2062     220000.0          12             1  ...          0          0          0\n",
              "2587     489854.0           1             2  ...          0          0          0\n",
              "...           ...         ...           ...  ...        ...        ...        ...\n",
              "84541    648000.0          12           227  ...          0          0          1\n",
              "84543    450000.0          11           227  ...          0          0          1\n",
              "84544    550000.0           4           227  ...          0          0          1\n",
              "84545    460000.0           7           227  ...          0          0          1\n",
              "84547     69300.0          10           227  ...          0          0          1\n",
              "\n",
              "[28737 rows x 14 columns]"
            ]
          },
          "execution_count": 15,
          "metadata": {
            "tags": []
          },
          "output_type": "execute_result"
        }
      ]
    },
    {
      "cell_type": "markdown",
      "metadata": {
        "id": "P1QZEhmxjtm5"
      },
      "source": [
        "# Data inspection"
      ]
    },
    {
      "cell_type": "markdown",
      "metadata": {
        "id": "k0Bc84e6RNx6"
      },
      "source": [
        "To further inspect the data, we created a second correlation heatmap to check if the preprocessing affected the correlation between ‘Sale price’ and the features. The heatmap revealed that the addition of ‘Sale month’ had no effect and the correlation between sale price and gross square feet is reduced after dropping the NaN values and the data above 1,000,000. Tests were conducted which found that the consequences of dropping these aforementioned values were that the classifiers perform worse. However, the regressors gain some performance when the values above 1,000,000 were removed. Therefore, some accuracy was sacrificed either way. It was decided to remove these values as it helps limit the scope and get a better picture of the housing market for the average consumer. The gain in the classifiers accuracy with the ‘Sale price’ above 1,000,000 included  might be due to how the percentiles were split."
      ]
    },
    {
      "cell_type": "code",
      "metadata": {
        "colab": {
          "base_uri": "https://localhost:8080/",
          "height": 430
        },
        "id": "QexBfC4Ljc9J",
        "outputId": "c1780e7d-d9a7-4403-8894-32a951377223"
      },
      "source": [
        "# Heatmap (Figure 2)\n",
        "corr = data.corr()\n",
        "plt.title('Figure 2')\n",
        "sns.heatmap(corr, mask=np.zeros_like(corr, dtype=np.bool), cmap=sns.diverging_palette(220, 10, as_cmap=True), square=True)"
      ],
      "execution_count": null,
      "outputs": [
        {
          "data": {
            "text/plain": [
              "<matplotlib.axes._subplots.AxesSubplot at 0x7f2040883c50>"
            ]
          },
          "execution_count": 16,
          "metadata": {
            "tags": []
          },
          "output_type": "execute_result"
        },
        {
          "data": {
            "image/png": "[encoded data removed]",
            "text/plain": [
              "<Figure size 432x288 with 2 Axes>"
            ]
          },
          "metadata": {
            "needs_background": "light",
            "tags": []
          },
          "output_type": "display_data"
        }
      ]
    },
    {
      "cell_type": "markdown",
      "metadata": {
        "id": "v-nz6q8bVcx5"
      },
      "source": [
        "# Classifier preprocessing"
      ]
    },
    {
      "cell_type": "markdown",
      "metadata": {
        "id": "8QVDwbNDRTO4"
      },
      "source": [
        "To best evaluate the algorithms a few criteria and metrics will be used. For the classifiers accuracy is utilised to measure the success, and for the regressive methods R2 coefficient illustrates how close the data is to the fitted line. In addition, cross-validation will be applied to ensure the validity of the results and ensure that the train/test split is not enforcing a bias. Moreover, k-fold will be applied to the cross-validation to prevent negative scores.\n",
        "\n",
        "\n",
        "We made the decision to use the same features on all the algorithms, as it would make for a more meaningful comparison. However, some specific changes to the classifier and the regressive methods were made. To make sure that the data could be classified correctly by the classifiers it was decided to round the target data to percentiles, which was only done for the classifiers. We opted on using every fifth percentile which resulted in a total of 21 different values for the classification, including the first percentile. The trade off is that the predictions won’t be as accurate, but will instead get an estimate of price range. Which will be helpful to the average house buyer to ascertain if a house is priced reasonably or not. It was concluded that the fifth percentile was a good balance between different price representations and the total accuracy of the predictions we aimed to achieve. In addition, the data was scaled using the minMax scaler.\n"
      ]
    },
    {
      "cell_type": "code",
      "metadata": {
        "colab": {
          "base_uri": "https://localhost:8080/",
          "height": 406
        },
        "id": "CmgBXPR3VGpn",
        "outputId": "8e1e2df5-fe5f-4215-df66-b18abe5e5b3d"
      },
      "source": [
        "# Rounds off the target data into 21 closest percentiles for the classifiers\n",
        "percentiles=[]\n",
        "for i in range(0,101, 5):\n",
        "    percentiles.append(np.percentile(data['SALE PRICE'], i).round())\n",
        "prices=[]\n",
        "for price in data['SALE PRICE']:\n",
        "    prices.append(np.array(percentiles).flat[np.abs(np.array(percentiles) - price).argmin()])\n",
        "classifier_data = data.copy()\n",
        "classifier_data['SALE PRICE'] = prices\n",
        "classifier_data"
      ],
      "execution_count": null,
      "outputs": [
        {
          "data": {
            "text/html": [
              "<div>\n",
              "<style scoped>\n",
              "    .dataframe tbody tr th:only-of-type {\n",
              "        vertical-align: middle;\n",
              "    }\n",
              "\n",
              "    .dataframe tbody tr th {\n",
              "        vertical-align: top;\n",
              "    }\n",
              "\n",
              "    .dataframe thead th {\n",
              "        text-align: right;\n",
              "    }\n",
              "</style>\n",
              "<table border=\"1\" class=\"dataframe\">\n",
              "  <thead>\n",
              "    <tr style=\"text-align: right;\">\n",
              "      <th></th>\n",
              "      <th>SALE PRICE</th>\n",
              "      <th>SALE MONTH</th>\n",
              "      <th>NEIGHBORHOOD</th>\n",
              "      <th>GROSS SQUARE FEET</th>\n",
              "      <th>TOTAL UNITS</th>\n",
              "      <th>YEAR BUILT</th>\n",
              "      <th>LAND SQUARE FEET</th>\n",
              "      <th>ZIP CODE</th>\n",
              "      <th>TAX CLASS AT TIME OF SALE</th>\n",
              "      <th>BUILDING CLASS CATEGORY</th>\n",
              "      <th>BOROUGH_2</th>\n",
              "      <th>BOROUGH_3</th>\n",
              "      <th>BOROUGH_4</th>\n",
              "      <th>BOROUGH_5</th>\n",
              "    </tr>\n",
              "  </thead>\n",
              "  <tbody>\n",
              "    <tr>\n",
              "      <th>223</th>\n",
              "      <td>425000.0</td>\n",
              "      <td>8</td>\n",
              "      <td>0</td>\n",
              "      <td>6330.0</td>\n",
              "      <td>9</td>\n",
              "      <td>1901</td>\n",
              "      <td>1566.0</td>\n",
              "      <td>10011</td>\n",
              "      <td>2</td>\n",
              "      <td>0</td>\n",
              "      <td>0</td>\n",
              "      <td>0</td>\n",
              "      <td>0</td>\n",
              "      <td>0</td>\n",
              "    </tr>\n",
              "    <tr>\n",
              "      <th>224</th>\n",
              "      <td>625000.0</td>\n",
              "      <td>8</td>\n",
              "      <td>0</td>\n",
              "      <td>6330.0</td>\n",
              "      <td>9</td>\n",
              "      <td>1901</td>\n",
              "      <td>1566.0</td>\n",
              "      <td>10011</td>\n",
              "      <td>2</td>\n",
              "      <td>0</td>\n",
              "      <td>0</td>\n",
              "      <td>0</td>\n",
              "      <td>0</td>\n",
              "      <td>0</td>\n",
              "    </tr>\n",
              "    <tr>\n",
              "      <th>277</th>\n",
              "      <td>265000.0</td>\n",
              "      <td>10</td>\n",
              "      <td>0</td>\n",
              "      <td>12200.0</td>\n",
              "      <td>24</td>\n",
              "      <td>1850</td>\n",
              "      <td>4600.0</td>\n",
              "      <td>10011</td>\n",
              "      <td>2</td>\n",
              "      <td>1</td>\n",
              "      <td>0</td>\n",
              "      <td>0</td>\n",
              "      <td>0</td>\n",
              "      <td>0</td>\n",
              "    </tr>\n",
              "    <tr>\n",
              "      <th>2062</th>\n",
              "      <td>202800.0</td>\n",
              "      <td>12</td>\n",
              "      <td>1</td>\n",
              "      <td>79465.0</td>\n",
              "      <td>15</td>\n",
              "      <td>1913</td>\n",
              "      <td>6994.0</td>\n",
              "      <td>10001</td>\n",
              "      <td>4</td>\n",
              "      <td>2</td>\n",
              "      <td>0</td>\n",
              "      <td>0</td>\n",
              "      <td>0</td>\n",
              "      <td>0</td>\n",
              "    </tr>\n",
              "    <tr>\n",
              "      <th>2587</th>\n",
              "      <td>485000.0</td>\n",
              "      <td>1</td>\n",
              "      <td>2</td>\n",
              "      <td>30680.0</td>\n",
              "      <td>16</td>\n",
              "      <td>1900</td>\n",
              "      <td>4600.0</td>\n",
              "      <td>10003</td>\n",
              "      <td>2</td>\n",
              "      <td>3</td>\n",
              "      <td>0</td>\n",
              "      <td>0</td>\n",
              "      <td>0</td>\n",
              "      <td>0</td>\n",
              "    </tr>\n",
              "    <tr>\n",
              "      <th>...</th>\n",
              "      <td>...</td>\n",
              "      <td>...</td>\n",
              "      <td>...</td>\n",
              "      <td>...</td>\n",
              "      <td>...</td>\n",
              "      <td>...</td>\n",
              "      <td>...</td>\n",
              "      <td>...</td>\n",
              "      <td>...</td>\n",
              "      <td>...</td>\n",
              "      <td>...</td>\n",
              "      <td>...</td>\n",
              "      <td>...</td>\n",
              "      <td>...</td>\n",
              "    </tr>\n",
              "    <tr>\n",
              "      <th>84541</th>\n",
              "      <td>665000.0</td>\n",
              "      <td>12</td>\n",
              "      <td>227</td>\n",
              "      <td>2160.0</td>\n",
              "      <td>2</td>\n",
              "      <td>1994</td>\n",
              "      <td>11088.0</td>\n",
              "      <td>10309</td>\n",
              "      <td>1</td>\n",
              "      <td>5</td>\n",
              "      <td>0</td>\n",
              "      <td>0</td>\n",
              "      <td>0</td>\n",
              "      <td>1</td>\n",
              "    </tr>\n",
              "    <tr>\n",
              "      <th>84543</th>\n",
              "      <td>455000.0</td>\n",
              "      <td>11</td>\n",
              "      <td>227</td>\n",
              "      <td>2575.0</td>\n",
              "      <td>2</td>\n",
              "      <td>1998</td>\n",
              "      <td>2400.0</td>\n",
              "      <td>10309</td>\n",
              "      <td>1</td>\n",
              "      <td>5</td>\n",
              "      <td>0</td>\n",
              "      <td>0</td>\n",
              "      <td>0</td>\n",
              "      <td>1</td>\n",
              "    </tr>\n",
              "    <tr>\n",
              "      <th>84544</th>\n",
              "      <td>550000.0</td>\n",
              "      <td>4</td>\n",
              "      <td>227</td>\n",
              "      <td>2377.0</td>\n",
              "      <td>2</td>\n",
              "      <td>1998</td>\n",
              "      <td>2498.0</td>\n",
              "      <td>10309</td>\n",
              "      <td>1</td>\n",
              "      <td>5</td>\n",
              "      <td>0</td>\n",
              "      <td>0</td>\n",
              "      <td>0</td>\n",
              "      <td>1</td>\n",
              "    </tr>\n",
              "    <tr>\n",
              "      <th>84545</th>\n",
              "      <td>455000.0</td>\n",
              "      <td>7</td>\n",
              "      <td>227</td>\n",
              "      <td>1496.0</td>\n",
              "      <td>2</td>\n",
              "      <td>1925</td>\n",
              "      <td>4000.0</td>\n",
              "      <td>10309</td>\n",
              "      <td>1</td>\n",
              "      <td>5</td>\n",
              "      <td>0</td>\n",
              "      <td>0</td>\n",
              "      <td>0</td>\n",
              "      <td>1</td>\n",
              "    </tr>\n",
              "    <tr>\n",
              "      <th>84547</th>\n",
              "      <td>10001.0</td>\n",
              "      <td>10</td>\n",
              "      <td>227</td>\n",
              "      <td>2400.0</td>\n",
              "      <td>1</td>\n",
              "      <td>2006</td>\n",
              "      <td>10796.0</td>\n",
              "      <td>10309</td>\n",
              "      <td>4</td>\n",
              "      <td>41</td>\n",
              "      <td>0</td>\n",
              "      <td>0</td>\n",
              "      <td>0</td>\n",
              "      <td>1</td>\n",
              "    </tr>\n",
              "  </tbody>\n",
              "</table>\n",
              "<p>28737 rows × 14 columns</p>\n",
              "</div>"
            ],
            "text/plain": [
              "       SALE PRICE  SALE MONTH  NEIGHBORHOOD  ...  BOROUGH_3  BOROUGH_4  BOROUGH_5\n",
              "223      425000.0           8             0  ...          0          0          0\n",
              "224      625000.0           8             0  ...          0          0          0\n",
              "277      265000.0          10             0  ...          0          0          0\n",
              "2062     202800.0          12             1  ...          0          0          0\n",
              "2587     485000.0           1             2  ...          0          0          0\n",
              "...           ...         ...           ...  ...        ...        ...        ...\n",
              "84541    665000.0          12           227  ...          0          0          1\n",
              "84543    455000.0          11           227  ...          0          0          1\n",
              "84544    550000.0           4           227  ...          0          0          1\n",
              "84545    455000.0           7           227  ...          0          0          1\n",
              "84547     10001.0          10           227  ...          0          0          1\n",
              "\n",
              "[28737 rows x 14 columns]"
            ]
          },
          "execution_count": 17,
          "metadata": {
            "tags": []
          },
          "output_type": "execute_result"
        }
      ]
    },
    {
      "cell_type": "code",
      "metadata": {
        "colab": {
          "base_uri": "https://localhost:8080/"
        },
        "id": "AGWdPvhnzmn-",
        "outputId": "a96b8f1d-e58e-4099-b077-0435da76d2c1"
      },
      "source": [
        "# The list of the percentiles \"Sale price\" has been split into\n",
        "percentiles"
      ],
      "execution_count": null,
      "outputs": [
        {
          "data": {
            "text/plain": [
              "[10001.0,\n",
              " 135000.0,\n",
              " 202800.0,\n",
              " 265000.0,\n",
              " 312500.0,\n",
              " 350000.0,\n",
              " 391168.0,\n",
              " 425000.0,\n",
              " 455000.0,\n",
              " 485000.0,\n",
              " 515000.0,\n",
              " 550000.0,\n",
              " 585493.0,\n",
              " 625000.0,\n",
              " 665000.0,\n",
              " 710000.0,\n",
              " 755000.0,\n",
              " 810000.0,\n",
              " 875000.0,\n",
              " 950000.0,\n",
              " 1000000.0]"
            ]
          },
          "execution_count": 18,
          "metadata": {
            "tags": []
          },
          "output_type": "execute_result"
        }
      ]
    },
    {
      "cell_type": "code",
      "metadata": {
        "id": "H82tJBfvVGvD"
      },
      "source": [
        "# Scales and splits the data into training and test sets\n",
        "from sklearn.model_selection import train_test_split\n",
        "from sklearn import preprocessing\n",
        "\n",
        "scaler = preprocessing.MinMaxScaler()\n",
        "x = classifier_data.drop(['SALE PRICE'], axis=1)\n",
        "x_scale = scaler.fit_transform(x)\n",
        "y = classifier_data['SALE PRICE']\n",
        "X_train, X_test, y_train, y_test = train_test_split(x_scale, y, random_state=ran)"
      ],
      "execution_count": null,
      "outputs": []
    },
    {
      "cell_type": "markdown",
      "metadata": {
        "id": "hQhVP8d1VjyZ"
      },
      "source": [
        "# k-NN"
      ]
    },
    {
      "cell_type": "markdown",
      "metadata": {
        "id": "I54llE8IuQDW"
      },
      "source": [
        "The k-NN algorithm is one of the more popular classifier methods, famed for its low error rate and ease of use (Kuang & Zhao, 2009, p. 151)."
      ]
    },
    {
      "cell_type": "code",
      "metadata": {
        "colab": {
          "base_uri": "https://localhost:8080/"
        },
        "id": "-_i12k6-qXI1",
        "outputId": "dd9e5763-112f-4e7e-ce22-5eaddc268f4a"
      },
      "source": [
        "from sklearn.neighbors import KNeighborsClassifier\n",
        "from sklearn.model_selection import KFold\n",
        "from sklearn.model_selection import cross_val_score\n",
        "\n",
        "#Sets up Kfold for all cross validation\n",
        "kf = KFold(shuffle=True, n_splits=5)\n",
        "\n",
        "#Grid search for the neighbours, weight and metric which gives the best score on our test data\n",
        "best_score = 0\n",
        "for neighbors in range(1,11):\n",
        "    for weight in ['uniform', 'distance']:\n",
        "      for metric in ['minkowski',  'manhattan', 'euclidean']:\n",
        "        knn_clf = KNeighborsClassifier(n_neighbors=neighbors, weights=weight, metric=metric)\n",
        "        knn_clf.fit(X_train, y_train)\n",
        "        score = knn_clf.score(X_test, y_test)\n",
        "        if score > best_score:\n",
        "            best_score = score\n",
        "            best_parameters = {'neighbors': neighbors, 'weight': weight, 'metric': metric}\n",
        "\n",
        "knn_clf = KNeighborsClassifier(n_neighbors=best_parameters['neighbors'], weights=best_parameters['weight'], metric=best_parameters['metric'])\n",
        "knn_clf.fit(X_train, y_train)\n",
        "cross_val_scores = cross_val_score(knn_clf, x_scale, y, cv= kf)\n",
        "\n",
        "print(\"Best parameters: {}\".format(best_parameters)) #{'neighbors': 8, 'weight': 'distance', 'metric': 'manhattan'}\n",
        "print(f'training set accuracy: {knn_clf.score(X_train, y_train)}')\n",
        "print(f'Test set accuracy: {knn_clf.score(X_test, y_test)}')\n",
        "print('Cross-validation scores: {}'.format(cross_val_scores))"
      ],
      "execution_count": null,
      "outputs": [
        {
          "name": "stdout",
          "output_type": "stream",
          "text": [
            "Best parameters: {'neighbors': 6, 'weight': 'distance', 'metric': 'manhattan'}\n",
            "training set accuracy: 0.9506774313288789\n",
            "Test set accuracy: 0.13556019485038273\n",
            "Cross-validation scores: [0.13013222 0.13674322 0.13259092 0.12806682 0.14059509]\n"
          ]
        }
      ]
    },
    {
      "cell_type": "markdown",
      "metadata": {
        "id": "lCqZC1CunRmW"
      },
      "source": [
        "k-NN originally had a test accuracy of ~0.12, but after the addition of one-hot encoding showed a 0.02 increase. Grid-search was used to find the best parameters which was the amount of neighbours, weight and metric. It is clear that the model overfits heavily as the training accuracy is 0.95. The addition of one-hot encoding added to the complexity of the data set, which could be an influencing factor as to the cause of overfitting. \n",
        "\n"
      ]
    },
    {
      "cell_type": "code",
      "metadata": {
        "colab": {
          "base_uri": "https://localhost:8080/",
          "height": 294
        },
        "id": "inG2P2J7D3DE",
        "outputId": "1d1351a9-9074-46b0-f945-891ef6eb3a1f"
      },
      "source": [
        "# Residual plot from our k-NN predictions\n",
        "pred = knn_clf.predict(X_test)\n",
        "residuals = y_test-pred\n",
        "plt.scatter(residuals, pred)\n",
        "plt.ylabel('Residuals')\n",
        "plt.xlabel('Predictions')\n",
        "plt.title('KNN Residuals')\n",
        "plt.show()"
      ],
      "execution_count": null,
      "outputs": [
        {
          "data": {
            "image/png": "[encoded data removed]",
            "text/plain": [
              "<Figure size 432x288 with 1 Axes>"
            ]
          },
          "metadata": {
            "needs_background": "light",
            "tags": []
          },
          "output_type": "display_data"
        }
      ]
    },
    {
      "cell_type": "markdown",
      "metadata": {
        "id": "3eM82gLbVnXv"
      },
      "source": [
        "# Bayes"
      ]
    },
    {
      "cell_type": "markdown",
      "metadata": {
        "id": "4z-B0eKz263L"
      },
      "source": [
        "Multinomial Naive Bayes (MNB) is a probabilistic learning classifier that is easily trained and calculates probability based on the bayes’ theorem (Bonaccorso, 2017)."
      ]
    },
    {
      "cell_type": "code",
      "metadata": {
        "colab": {
          "base_uri": "https://localhost:8080/"
        },
        "id": "K9wmDrKgVG0i",
        "outputId": "d498acc8-a88a-4368-d177-bb66bf1b4835"
      },
      "source": [
        "from sklearn.naive_bayes import MultinomialNB\n",
        "\n",
        "# Finds the best alpha fro Bayes\n",
        "best_score = 0\n",
        "for alpha in [0.001, 0.01, 0.1, 1, 10, 100, 1000]:\n",
        "    bay_clf = MultinomialNB(alpha=alpha)\n",
        "    bay_clf.fit(X_train, y_train)\n",
        "    score = bay_clf.score(X_test, y_test)\n",
        "    if score > best_score:\n",
        "            best_score = score\n",
        "            best_alpha = alpha\n",
        "\n",
        "bay_clf =MultinomialNB(alpha=best_alpha)\n",
        "bay_clf.fit(X_train, y_train)\n",
        "cross_val_scores = cross_val_score(bay_clf, x_scale, y, cv= kf)\n",
        "\n",
        "print(\"Best alpha: \", best_alpha)\n",
        "print(f'Training set prediction: {bay_clf.score(X_train,y_train)}')\n",
        "print(f'Test set accuracy: {bay_clf.score(X_test, y_test)}')\n",
        "print('Cross-validation scores: {}'.format(cross_val_scores))"
      ],
      "execution_count": null,
      "outputs": [
        {
          "name": "stdout",
          "output_type": "stream",
          "text": [
            "Best alpha:  1000\n",
            "Training set prediction: 0.09177802524127691\n",
            "Test set accuracy: 0.10173973556019485\n",
            "Cross-validation scores: [0.09116214 0.08698678 0.09622412 0.08821994 0.0819558 ]\n"
          ]
        }
      ]
    },
    {
      "cell_type": "markdown",
      "metadata": {
        "id": "KzeMzE5gtIDk"
      },
      "source": [
        "The MNB algorithm reported a training set score of 0.09 and a test set accuracy of 0.10. MNB is based on a naive assumption which implies the conditional independence of causes. It also means that each feature contributes independently regardless of correlation which could be a factor that contributes to the low accuracy score (Bonaccorso, 2017). Moreover, MNB is commonly used for document classification using the bag of words model where it disregards all but multiplicity. In this use case some features such as ‘Square feet’ have many unique variables, making it hard for the algorithm to make meaningful predictions. It raises the question of the feasibility of MNB on the dataset as manipulating it further can cause the data to lose its original value. The other option is to create a new collection of features to be used only by MNB, yet this would make it unusable in terms of comparison with the other ML models. "
      ]
    },
    {
      "cell_type": "code",
      "metadata": {
        "colab": {
          "base_uri": "https://localhost:8080/",
          "height": 294
        },
        "id": "DyQctfW8D5Z-",
        "outputId": "4b8fa551-22b0-496e-858c-c7f31d1e63cc"
      },
      "source": [
        "# Residual plot from our Bayes predictions\n",
        "pred = bay_clf.predict(X_test)\n",
        "residuals = y_test-pred\n",
        "plt.scatter(residuals, pred)\n",
        "plt.ylabel('Residuals')\n",
        "plt.xlabel('Predcitons')\n",
        "plt.title('Bayes residuals')\n",
        "plt.show()"
      ],
      "execution_count": null,
      "outputs": [
        {
          "data": {
            "image/png": "[encoded data removed]",
            "text/plain": [
              "<Figure size 432x288 with 1 Axes>"
            ]
          },
          "metadata": {
            "needs_background": "light",
            "tags": []
          },
          "output_type": "display_data"
        }
      ]
    },
    {
      "cell_type": "markdown",
      "metadata": {
        "id": "_s6c1cvPVw6D"
      },
      "source": [
        "# SVC"
      ]
    },
    {
      "cell_type": "markdown",
      "metadata": {
        "id": "857CPpDJRX5J"
      },
      "source": [
        "A support vector machine is an ML algorithm that used for both classification and regression tasks, in our project we applied it as a classification algorithm. SVM’s are highly preferred by many as they produce significant accuracy with less computation power (Gandhi, 2018).\n"
      ]
    },
    {
      "cell_type": "code",
      "metadata": {
        "colab": {
          "base_uri": "https://localhost:8080/"
        },
        "id": "G-6d1u6FVHKZ",
        "outputId": "5664f889-911b-4161-d824-b5ef6f723e2a"
      },
      "source": [
        "# Warning! Takes about 50 minutes in Google Colab. To avoid running the entire grid search use 'C': 100, 'gamma': 10 as the parameters.\n",
        "from sklearn.svm import SVC\n",
        "\n",
        "#Grid search for finding the best gamma and C. The code has been lifted and modified from lecture 10, slide 29 (SOURCE)\n",
        "best_score = 0\n",
        "for gamma in [0.001, 0.01, 0.1, 1, 10, 100]:\n",
        "    for C in [0.001, 0.01, 0.1, 1, 10, 100]:\n",
        "        svc = SVC(gamma=gamma, C=C)\n",
        "        svc.fit(X_train, y_train)\n",
        "        score = svc.score(X_test, y_test)\n",
        "        if score > best_score:\n",
        "            best_score = score\n",
        "            best_parameters = {'C': C, 'gamma': gamma}\n",
        "\n",
        "svc = SVC(gamma=best_parameters['gamma'], C=best_parameters['C'])\n",
        "#To minimize runtime comment out the grid search above and remove the comment below. Should reduce runtime to 5 minutes\n",
        "#svc = SVC(gamma=10], C=100)\n",
        "svc.fit(X_train, y_train)\n",
        "cross_val_scores = cross_val_score(svc, x_scale, y, cv= kf)\n",
        "\n",
        "print(\"Best parameters: {}\".format(best_parameters))\n",
        "print(f'Training set accuracy: {svc.score(X_train, y_train)}')\n",
        "print(f'Test set accuracy: {svc.score(X_test, y_test)}')\n",
        "print('Cross-validation scores: {}'.format(cross_val_scores))"
      ],
      "execution_count": null,
      "outputs": [
        {
          "name": "stdout",
          "output_type": "stream",
          "text": [
            "Best parameters: {'C': 100, 'gamma': 10}\n",
            "Training set accuracy: 0.20638455827765403\n",
            "Test set accuracy: 0.12498260264439805\n",
            "Cross-validation scores: [0.12439109 0.11725818 0.11988864 0.12945885 0.12667479]\n"
          ]
        }
      ]
    },
    {
      "cell_type": "markdown",
      "metadata": {
        "id": "w26U1TqiSZin"
      },
      "source": [
        "For the SVC a simple grid search was implemented in an attempt to find the best alpha and gamma values. It caused a drastic run-time increase but facilitated a better fit for the dataset in correspondence to the model. It resulted in an accuracy of ~0.12 on the test data and ~0.20 on the training data."
      ]
    },
    {
      "cell_type": "markdown",
      "metadata": {
        "id": "M9gaORSX2aZm"
      },
      "source": [
        "Three different classifier algorithms were performed on the data set, yielding three different results. To be able to compare the classifier algorithms it was decided to use equivalent methods for the preprocessing of data. The kNN method was used to establish a baseline, but came with the issue of overfitting. The baseline persisted through the testing, as the classifier with the highest accuracy. It was hypothesised that SVC would surpass kNN in terms of accuracy, but as SVC is generally hard to inspect and ascertain the reason for its predictions, the cause remains unknown. Nonetheless, the low accuracy implies that classifiers are not the best models for the specific target value."
      ]
    },
    {
      "cell_type": "markdown",
      "metadata": {
        "id": "AMvmkXJNWCPa"
      },
      "source": [
        "# Regression preprocessing"
      ]
    },
    {
      "cell_type": "markdown",
      "metadata": {
        "id": "O2cQ3SO2Rf9x"
      },
      "source": [
        "Classification algorithms do not appear to be the way to solve this challenge. Therefore, a more appropriate way to tackle this challenge would be using regressive algorithms without splitting the target values into percentiles. For regression, different scalers were applied, to ensure the most appropriate method was used. We tested the minMax, Standard, Max Abs, Robust, Quantile transformer, and last Power transformer Scalers. In the end, the power transformer scaler was elected, which makes the data more Gaussian-like. Due to the number of outliers and data variation in the data set it was deemed a good fit. It also provided the best results after testing multiple scalers with the trial and error method.\n"
      ]
    },
    {
      "cell_type": "code",
      "metadata": {
        "id": "tIazSiIOVHQ_"
      },
      "source": [
        "# Sets up and scales the data to be more suitable for regression\n",
        "reggression_data = data.copy()\n",
        "# scaler = preprocessing.MinMaxScaler()\n",
        "# scaler = preprocessing.StandardScaler()\n",
        "# scaler = preprocessing.MaxAbsScaler()\n",
        "# scaler = preprocessing.RobustScaler()\n",
        "# scaler = preprocessing.QuantileTransformer()\n",
        "scaler = preprocessing.PowerTransformer()\n",
        "\n",
        "x = reggression_data.drop(['SALE PRICE'], axis=1)\n",
        "x_scale = scaler.fit_transform(x)\n",
        "y = reggression_data['SALE PRICE']\n",
        "X_train, X_test, y_train, y_test = train_test_split(x_scale, y, random_state=ran)"
      ],
      "execution_count": null,
      "outputs": []
    },
    {
      "cell_type": "markdown",
      "metadata": {
        "id": "MBMO-VDAWHpn"
      },
      "source": [
        "# Linear regression"
      ]
    },
    {
      "cell_type": "markdown",
      "metadata": {
        "id": "xOua85DbqdR2"
      },
      "source": [
        "We chose to take advantage of linear regression for this dataset. This algorithm is very good in terms of speed, but not the best when it comes to accuracy. We also tried to see if using lasso and ridge regularisation would indicate any change in the results."
      ]
    },
    {
      "cell_type": "code",
      "metadata": {
        "colab": {
          "base_uri": "https://localhost:8080/"
        },
        "id": "7gBFrfhaVHT7",
        "outputId": "eb00602c-f470-4577-a8a2-7090bdcafead"
      },
      "source": [
        "# Linear regression without any regularisation\n",
        "from sklearn.linear_model import LinearRegression \n",
        "from sklearn.metrics import r2_score\n",
        "\n",
        "linreg = LinearRegression()\n",
        "linreg.fit(X_train, y_train)\n",
        "cross_val_scores = cross_val_score(linreg, x_scale, y, cv= kf)\n",
        "\n",
        "print(f'Training set R2 Coefficient: {r2_score(y_train, linreg.predict(X_train))}')\n",
        "print(f'Test set R2 Coefficient:: {r2_score(y_test, linreg.predict(X_test))}')\n",
        "print('Cross-validation scores: {}'.format(cross_val_scores))"
      ],
      "execution_count": null,
      "outputs": [
        {
          "name": "stdout",
          "output_type": "stream",
          "text": [
            "Training set R2 Coefficient: 0.17248854112874867\n",
            "Test set R2 Coefficient:: 0.19519771500553174\n",
            "Cross-validation scores: [0.17498478 0.16809012 0.16444821 0.18484415 0.19294267]\n"
          ]
        }
      ]
    },
    {
      "cell_type": "code",
      "metadata": {
        "colab": {
          "base_uri": "https://localhost:8080/"
        },
        "id": "SdjahljVVHXV",
        "outputId": "96e0b028-441e-4516-dd2b-7b5ce445f281"
      },
      "source": [
        "# Linear regression with L1/Lasso regularisation, takes about a minute due to number of iterations and cross validation.\n",
        "from sklearn.linear_model import Lasso\n",
        "lasso = Lasso(max_iter=100000)\n",
        "lasso.fit(X_train, y_train)\n",
        "cross_val_scores = cross_val_score(lasso, x_scale, y, cv= kf)\n",
        "\n",
        "print(f'Training set R2 Coefficient: {r2_score(y_train, lasso.predict(X_train))}')\n",
        "print(f'Test set R2 Coefficient:: {r2_score(y_test, lasso.predict(X_test))}')\n",
        "print('Cross-validation scores: {}'.format(cross_val_scores))"
      ],
      "execution_count": null,
      "outputs": [
        {
          "name": "stdout",
          "output_type": "stream",
          "text": [
            "Training set R2 Coefficient: 0.17248851833389478\n",
            "Test set R2 Coefficient:: 0.19519300706008558\n",
            "Cross-validation scores: [0.18681067 0.1867303  0.1741897  0.15849094 0.17838061]\n"
          ]
        }
      ]
    },
    {
      "cell_type": "code",
      "metadata": {
        "colab": {
          "base_uri": "https://localhost:8080/"
        },
        "id": "HdfJ6OadVHad",
        "outputId": "c001d8af-0619-4ef2-df6f-443eee524985"
      },
      "source": [
        "#Linear regression with L2/Ridge regularization\n",
        "from sklearn.linear_model import Ridge\n",
        "\n",
        "#Finds the best alpha\n",
        "best_score = 0\n",
        "for alpha in [0.001, 0.01, 0.1, 1, 10, 100, 1000]:\n",
        "    ridge = Ridge(alpha=alpha, normalize=True)\n",
        "    ridge.fit(X_train, y_train)\n",
        "    score = ridge.score(X_test, y_test)\n",
        "    if score > best_score:\n",
        "            best_score = score\n",
        "            best_alpha = alpha\n",
        "\n",
        "ridge = Ridge(alpha=best_alpha, normalize=True)\n",
        "ridge.fit(X_train, y_train)\n",
        "cross_val_scores = cross_val_score(ridge, x_scale, y, cv= kf)\n",
        "\n",
        "print(\"Best alpha: \", best_alpha)\n",
        "print(f'Training set R2 Coefficient: {r2_score(y_train, ridge.predict(X_train))}')\n",
        "print(f'Test set R2 Coefficient:: {r2_score(y_test, ridge.predict(X_test))}')\n",
        "print('Cross-validation scores: {}'.format(cross_val_scores))"
      ],
      "execution_count": null,
      "outputs": [
        {
          "name": "stdout",
          "output_type": "stream",
          "text": [
            "Best alpha:  0.001\n",
            "Training set R2 Coefficient: 0.17176516402149522\n",
            "Test set R2 Coefficient:: 0.19377524582225725\n",
            "Cross-validation scores: [0.17562655 0.18258954 0.17770414 0.17039556 0.17536457]\n"
          ]
        }
      ]
    },
    {
      "cell_type": "markdown",
      "metadata": {
        "id": "LLxfP2XipAVa"
      },
      "source": [
        "The R2 score for linear regression without any kind of regularisation is 0.17 on the training set and 0.19 on the test set. None of the results change significantly when applying lasso and ridge regularisation. Their equal performance is due to the amount of training data (Müller & Guido. 2016. p. 53)."
      ]
    },
    {
      "cell_type": "markdown",
      "metadata": {
        "id": "NPiQaD6zWNcX"
      },
      "source": [
        "# Random forest regressor"
      ]
    },
    {
      "cell_type": "markdown",
      "metadata": {
        "id": "0I1UMvevtlD9"
      },
      "source": [
        "Random forest regression is very powerful, and works well without heavy tuning of the parameters (Müller & Guido. 2016. p. 87). It is a more complex model than linear regression, and is therefore slower,  more accurate. Additionally, it combats the overfitting issue that the decision tree algorithm brings with it, as it averages the overfitting of many differently configured decision trees, hence the name forest (Müller & Guido. 2016. p. 83)."
      ]
    },
    {
      "cell_type": "code",
      "metadata": {
        "colab": {
          "base_uri": "https://localhost:8080/"
        },
        "id": "IWxEQqwNVHdP",
        "outputId": "0a8ecd24-98b1-4879-cbf4-3c95fac6e68b"
      },
      "source": [
        "# Random forest regressor\n",
        "from sklearn.ensemble import RandomForestRegressor\n",
        "rf_regr = RandomForestRegressor()\n",
        "rf_regr.fit(X_train, y_train)\n",
        "cross_val_scores = cross_val_score(rf_regr, x_scale, y, cv= kf)\n",
        "\n",
        "print(f'Training set R2 Coefficient: {r2_score(y_train, rf_regr.predict(X_train))}')\n",
        "print(f'Test set R2 Coefficient:: {r2_score(y_test, rf_regr.predict(X_test))}')\n",
        "print('Cross-validation scores: {}'.format(cross_val_scores))"
      ],
      "execution_count": null,
      "outputs": [
        {
          "name": "stdout",
          "output_type": "stream",
          "text": [
            "Training set R2 Coefficient: 0.9202822432173919\n",
            "Test set R2 Coefficient:: 0.5395650758666148\n",
            "Cross-validation scores: [0.5199049  0.51133324 0.52745925 0.53785241 0.52693197]\n"
          ]
        }
      ]
    },
    {
      "cell_type": "markdown",
      "metadata": {
        "id": "Iqt7MY2jTRqS"
      },
      "source": [
        "This algorithm shows superior performance on this data with an R2 coefficient of 0.53 on the test data. Although, when taking the training score of 0.92 into consideration, it is clear that this model is overfitting to some degree. The cross-validation scores back up our test set score with an average of ~0.52.\n"
      ]
    },
    {
      "cell_type": "markdown",
      "metadata": {
        "id": "AV4ePKib40Hu"
      },
      "source": [
        "Four regression algorithms were tested on the dataset. All three linear regression-based models produced remarkably similar scores. Conversely the random forest regressor produced much higher results, albeit with overfitting. In spite of this, the much higher test score of the random forest regressor makes it the most appropriate model for this dataset."
      ]
    },
    {
      "cell_type": "markdown",
      "metadata": {
        "id": "Cr2zPoAgWRa7"
      },
      "source": [
        "# Neural network preprocessing - classifier"
      ]
    },
    {
      "cell_type": "markdown",
      "metadata": {
        "id": "2p26Z3oBRxDY"
      },
      "source": [
        "Two neural networks were also fashioned. The first being a classifier that runs on the same dataset as k-NN, Bayes and SVC without any other tweaks to the data and is also scaled using the MinMax scaler. "
      ]
    },
    {
      "cell_type": "code",
      "metadata": {
        "id": "BFxRddZeVHf1"
      },
      "source": [
        "# A classifier that runs on the same data as kNN, Bayes and SVC\n",
        "scaler = preprocessing.MinMaxScaler()\n",
        "x = classifier_data.drop(['SALE PRICE'], axis=1)\n",
        "x_scale = scaler.fit_transform(x)\n",
        "y = classifier_data['SALE PRICE']\n",
        "X_train, X_test, y_train, y_test = train_test_split(x_scale, y, random_state=ran)"
      ],
      "execution_count": null,
      "outputs": []
    },
    {
      "cell_type": "markdown",
      "metadata": {
        "id": "7VkpmWp0WUws"
      },
      "source": [
        "# Neural network - classifier"
      ]
    },
    {
      "cell_type": "markdown",
      "metadata": {
        "id": "iVgJaiOpwqV5"
      },
      "source": [
        "The classification neural network has two hidden layers consisting of 16 and 12 nodes respectively. It uses tanh as an activation function and adam as its solver. The alpha is found dynamically through grid search."
      ]
    },
    {
      "cell_type": "code",
      "metadata": {
        "colab": {
          "base_uri": "https://localhost:8080/"
        },
        "id": "fypN2H0IVHia",
        "outputId": "d2f90cff-1364-4558-9731-b5d69743c4c1"
      },
      "source": [
        "# The classifier takes about 10 minutes to run\n",
        "from sklearn.neural_network import MLPClassifier\n",
        "\n",
        "# Finds the best alpha\n",
        "best_score = 0\n",
        "for alpha in [0.0001, 0.001, 0.01, 0.1, 0.5, 1]:\n",
        "    nn = MLPClassifier(hidden_layer_sizes = [16, 12], activation = 'tanh', alpha = alpha, solver = 'adam',  max_iter=10000)\n",
        "    nn.fit(X_train, y_train)\n",
        "    score = nn.score(X_test, y_test)\n",
        "    if score > best_score:\n",
        "            best_score = score\n",
        "            best_alpha = alpha\n",
        "\n",
        "nn = MLPClassifier(hidden_layer_sizes = [16, 12], activation = 'tanh', alpha = best_alpha, solver = 'adam',  max_iter=10000)\n",
        "nn.fit(X_train,y_train)\n",
        "cross_val_scores = cross_val_score(nn, x_scale, y, cv= kf)\n",
        "\n",
        "print(\"Best alpha: \", best_alpha)\n",
        "print(\"Train  accuracy \", nn.score(X_train, y_train))\n",
        "print(\"Test accuracy \",  nn.score(X_test, y_test))\n",
        "print('Cross-validation scores: {}'.format(cross_val_scores))"
      ],
      "execution_count": null,
      "outputs": [
        {
          "name": "stdout",
          "output_type": "stream",
          "text": [
            "Best alpha:  0.001\n",
            "Train  accuracy  0.12583518930957685\n",
            "Test accuracy  0.1269311064718163\n",
            "Cross-validation scores: [0.1270007  0.1203897  0.12058465 0.12041065 0.11954063]\n"
          ]
        }
      ]
    },
    {
      "cell_type": "code",
      "metadata": {
        "colab": {
          "base_uri": "https://localhost:8080/",
          "height": 312
        },
        "id": "iydinfTDTviT",
        "outputId": "2b6616a2-66e1-4d93-98d1-464d09e1a66c"
      },
      "source": [
        "# Loss curve for our NN\n",
        "pd.DataFrame(nn.loss_curve_).plot()\n",
        "plt.ylabel('Loss')\n",
        "plt.xlabel('Iterations')\n",
        "plt.title('NN Loss curve')"
      ],
      "execution_count": null,
      "outputs": [
        {
          "data": {
            "text/plain": [
              "Text(0.5, 1.0, 'NN Loss curve')"
            ]
          },
          "execution_count": 32,
          "metadata": {
            "tags": []
          },
          "output_type": "execute_result"
        },
        {
          "data": {
            "image/png": "[encoded data removed]",
            "text/plain": [
              "<Figure size 432x288 with 1 Axes>"
            ]
          },
          "metadata": {
            "needs_background": "light",
            "tags": []
          },
          "output_type": "display_data"
        }
      ]
    },
    {
      "cell_type": "markdown",
      "metadata": {
        "id": "Cw7CDVAIGBcG"
      },
      "source": [
        "The classifier NN performs on-par with the best of the classifier model, namely SVC. Nonetheless, it retains the low accuracy found across all of the classifiers. The NN loss curve graph indicates a logarithmic distribution, and hence more iteration will not result in significant reduction in loss. It reinforces the notion that classifiers are less suited than the regressors for this task."
      ]
    },
    {
      "cell_type": "markdown",
      "metadata": {
        "id": "ursfm2gqWYnu"
      },
      "source": [
        "# Neural network preprocessing - regressive"
      ]
    },
    {
      "cell_type": "markdown",
      "metadata": {
        "id": "ZSqTXrv1AtDS"
      },
      "source": [
        "The other neural network is a regressive neural network which runs on it’s own data, This time scaled using the standard scaler as it was found to give better results."
      ]
    },
    {
      "cell_type": "code",
      "metadata": {
        "id": "QJWczkvzxsx9"
      },
      "source": [
        "# Scales and splits into training data and test\n",
        "scaler = preprocessing.StandardScaler()\n",
        "reg_nn_data = data.copy()\n",
        "x = reg_nn_data.drop(['SALE PRICE'], axis=1)\n",
        "y = reg_nn_data['SALE PRICE']\n",
        "x_scale = scaler.fit_transform(x)\n",
        "X_train, X_test, y_train, y_test = train_test_split(x_scale, y, random_state=ran)"
      ],
      "execution_count": null,
      "outputs": []
    },
    {
      "cell_type": "markdown",
      "metadata": {
        "id": "rq4OP-LbWeOU"
      },
      "source": [
        "# Neural network - regressive"
      ]
    },
    {
      "cell_type": "markdown",
      "metadata": {
        "id": "tu_V4UjYxvef"
      },
      "source": [
        "The regressive neural network also consists of two layers, this time featuring 8 and 4 nodes each. Takes advantage of relu as it’s activation function, and has a set alpha of 0.001. We applied lbfgs as our solver and have a learning rate of 0.01."
      ]
    },
    {
      "cell_type": "code",
      "metadata": {
        "colab": {
          "base_uri": "https://localhost:8080/"
        },
        "id": "dScsm0DDVH-y",
        "outputId": "04222724-ce15-4b50-f949-e4d105b07154"
      },
      "source": [
        "# Runs the regresive Neural network. Takes a couple of minutes to run\n",
        "from sklearn.neural_network import MLPRegressor\n",
        "\n",
        "reg_nn = MLPRegressor(hidden_layer_sizes = (8, 4), activation = 'relu', alpha=0.001,  solver = 'lbfgs', max_iter=10000, learning_rate_init=0.01, random_state=ran)\n",
        "reg_nn.fit(X_train,y_train)\n",
        "cross_val_scores = cross_val_score(reg_nn, x_scale, y, cv= kf)\n",
        "\n",
        "print(f'Training set R2 Coefficient: {r2_score(y_train, reg_nn.predict(X_train))}')\n",
        "print(f'Test set R2 Coefficient:: {r2_score(y_test, reg_nn.predict(X_test))}')\n",
        "print('Cross-validation scores: {}'.format(cross_val_scores))"
      ],
      "execution_count": null,
      "outputs": [
        {
          "name": "stdout",
          "output_type": "stream",
          "text": [
            "Training set R2 Coefficient: 0.30870401933522595\n",
            "Test set R2 Coefficient:: 0.31635352399544003\n",
            "Cross-validation scores: [-0.18533392  0.24016407  0.08669366  0.35771128  0.39543767]\n"
          ]
        }
      ]
    },
    {
      "cell_type": "markdown",
      "metadata": {
        "id": "IOdybZnjIUYP"
      },
      "source": [
        "The regressive NN performs better than all other regressors with the exception of random forest, but does so without overfitting. The variation of the cross-validation scores are substantial, and it is speculated that it is a result of the significant variance within the dataset itself. In turn causing different splits of the validation set to vary greatly. Moreover, it is difficult to establish the learning curve as the solver 'L-BFGS' does not track loss during training. "
      ]
    },
    {
      "cell_type": "markdown",
      "metadata": {
        "id": "iMzqEo14Tqws"
      },
      "source": [
        "# Insights"
      ]
    },
    {
      "cell_type": "markdown",
      "metadata": {
        "id": "Ak5oLfaFTxxm"
      },
      "source": [
        "Early on it was concluded that an increase in features does not necessarily result in better accuracy, and could in some cases worsen it. The reason being that an increase in features often leads to a substantial reduction in the dataset. Herein a missing value in just one of the cell’s rows would culminate in removing the row entirely. The challenge then becomes finding a balance so as to not reduce the number of entries so drastically that the algorithms have enough data to base their predictions. Moreover, as the data is captured over a one year period it raises concerns about variables shaped excessively by events that have occurred in the respective timeframe. If the duration of the data-collection would be longer the variations could over-time be evened out, as it is impossible to address it without having intimate knowledge of the housing-market in NYC. This also comes with the premise that a feasible target value which correlates sufficiently with the features is chosen. In other words it may be beneficial to have fewer values that have a high correlation, yet if the set of features becomes too small it can result in overfitting. Nevertheless, this also comes with the risk of choosing features that correlate excessively, making the predictions lose their value. To illustrate it is not meaningful for an algorithm to predict zip codes derived from addresses as this could easily be found elsewhere."
      ]
    },
    {
      "cell_type": "markdown",
      "metadata": {
        "id": "_RuZBllDT4MT"
      },
      "source": [
        "# Conclusion"
      ]
    },
    {
      "cell_type": "markdown",
      "metadata": {
        "id": "OJjYPAmKT8a_"
      },
      "source": [
        "Some algorithms handle predicting the data better than others. Classifiers seem to struggle with either overfitting or very low accuracy. Regression algorithms (especially the neural network) seem to produce accuracies that are both higher and more appropriately fitted. In spite of that, none of the algorithms produce particularly high accuracies.The few features we have, might not have a strong enough correlation to our target. The leading one being that sale prices fluctuate too much and may be dependent on too many unknown features not included in the data. A lot of missing data can result in poor predictions, as it is possible that they are the deciding factors in 'Sale price'.\n",
        "\n",
        "\n",
        "We concluded that there are way too many unknown features influencing the price for any of our algorithms to get accurate predictions with the current data. However, the interesting thing here might not actually be accuracy. But rather how far the predictions are from the actual sales price, and the residual between the two. If we can get a rough estimate for a house's value that is close enough this could be useful for setting a price on a house. It also gives the buyer and seller a sense of security, knowing that the house was sold and bought at a reasonable price.\n",
        "\n",
        "\n"
      ]
    },
    {
      "cell_type": "markdown",
      "metadata": {
        "id": "S8DumYkq-tmg"
      },
      "source": [
        "# References"
      ]
    },
    {
      "cell_type": "markdown",
      "metadata": {
        "id": "KWVTkvJ9-vqQ"
      },
      "source": [
        "Bonaccorso, G. (2017). Machine Learning Algorithms. Packt. https://hub.packtpub.com/implementing-3-naive-bayes-classifiers-in-scikit-learn/\n",
        "\n",
        "City of New York (2017),  NYC Property Sales. Kaggle. Accessed:\n",
        " https://www.kaggle.com/new-york-city/nyc-property-sales\n",
        "\n",
        "Gandhi, R  (2018) Support Vector Machine — Introduction to Machine Learning Algorithms \n",
        "https://towardsdatascience.com/support-vector-machine-introduction-to-machine-learning-algorithms-934a444fca47\n",
        "\n",
        "Guzman, G. G. (2019). Household Income: 2018: American Community Survey Briefs (ACSBR/18-01).\n",
        " https://www.census.gov/content/dam/Census/library/publications/2019/acs/acsbr18-01.pdf\n",
        "\n",
        "Kuang, Q. & Zhaoi, L. (2009). A Practical GPU Based KNN Algorithm. In ISCSCT ’09, Proceedings of the Second Symposium International Computer Science and Computational Technology (p. 151-155). Huangshan, P. R. China.\n",
        " http://citeseerx.ist.psu.edu/viewdoc/download?doi=10.1.1.403.5787&rep=rep1&type=pdf\n",
        "\n",
        "Müller, A. C., & Guido, S. (2016). Introduction to machine learning with Python: a guide for data scientists (pp. XII, 378). O'Reilly.\n",
        "\n",
        "Poole, D. L. ., & Mackworth, A. K. . (2010). Artificial intelligence: foundations of computational agents (pp. XVII, 662). Cambridge University Press.\n",
        "\n",
        "Polyzotis, N. Roy. S., Whang, S. E., Zinkevich, M. (2018). Data Lifecycle Challenges in Production Machine Learning: A Survey. SIGMOD Record, 47(2).\thttps://sigmodrecord.org/publications/sigmodRecord/1806/pdfs/04_Surveys_Polyzotis.pdf\n",
        "\n",
        "Roh, Y. Heo, G. Whang, E, S. (2019, August).  \"A Survey on Data Collection for Machine Learning: A Big Data - AI Integration Perspective,\" in IEEE Transactions on Knowledge and Data Engineering, volume(33), no. 4, pp. 1328-1347 \n",
        "https://arxiv.org/pdf/1811.03402.pdf\n",
        "\n",
        "Simarjeet, K. & Singla, J & Nkenyereye, L. & Jha, S. & Prashar, Deepak & Joshi, Gyanendra P. & El-Sappagh, Shaker & Islam, Md & Islam, Riazul, S. M. (2020). Medical Diagnostic Systems Using Artificial Intelligence (AI) Algorithms: Principles and Perspectives. IEEE Access. PP. 1-1. https://www.researchgate.net/publication/347334482_Medical_Diagnostic_Systems_Using_Artificial_Intelligence_AI_Algorithms_Principles_and_Perspectives "
      ]
    }
  ]
}